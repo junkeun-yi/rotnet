{
 "cells": [
  {
   "cell_type": "markdown",
   "metadata": {},
   "source": [
    "# Generate CIFAR10 Features\n",
    "In this notebook, we will train an autoencoder to generate features for our MEC RotNet training.\n",
    "\n",
    "This notebook will:\n",
    "\n",
    "1. Train an autoencoder on CIFAR10\n",
    "2. Generate a CSV of CIFAR10 Training Features (from autoencoder in (1)) -> {0/1 Not Rotated/Rotated Label}"
   ]
  },
  {
   "cell_type": "code",
   "execution_count": 7,
   "metadata": {},
   "outputs": [],
   "source": [
    "# Imports\n",
    "import torch\n",
    "import torch.nn as nn\n",
    "from torch.utils.data import DataLoader\n",
    "import torchvision\n",
    "from torchvision.datasets import CIFAR10\n",
    "from torchvision import transforms\n",
    "import tqdm.notebook\n",
    "import numpy as np\n",
    "import random\n",
    "import pandas as pd\n",
    "\n",
    "import matplotlib.pyplot as plt\n",
    "\n",
    "# Set device\n",
    "DEVICE = torch.device('cuda')\n",
    "\n",
    "# Set seed\n",
    "torch.manual_seed(0)\n",
    "np.random.seed(0)\n",
    "random.seed(0)"
   ]
  },
  {
   "cell_type": "markdown",
   "metadata": {},
   "source": [
    "## 1. Train an Autoencoder for CIFAR10\n",
    "\n",
    "We will build a Convolutional AutoEncoder (CAE) for CIFAR10. This section of the notebook includes 3 parts:\n",
    "1. Define the Architecture\n",
    "2. Train the Model on CIFAR10\n",
    "3. Visualize model predictions "
   ]
  },
  {
   "cell_type": "markdown",
   "metadata": {},
   "source": [
    "### 1.1. Create the model\n",
    "\n",
    "We will adapt a popular CAE architecture seen in many blogposts and tutorials, including [TensorFlow's AutoEncoder tutorial](https://www.tensorflow.org/tutorials/generative/autoencoder#define_a_convolutional_autoencoder)."
   ]
  },
  {
   "cell_type": "code",
   "execution_count": 8,
   "metadata": {},
   "outputs": [],
   "source": [
    "# Architecture from https://www.tensorflow.org/tutorials/generative/autoencoder#define_a_convolutional_autoencoder\n",
    "class ConvAutoEncoder(nn.Module):\n",
    "    def __init__(self):\n",
    "        super(ConvAutoEncoder, self).__init__()\n",
    "\n",
    "        self.encoder = nn.Sequential(\n",
    "                                        nn.Conv2d(3, 16, 3), #Input 3 channel, 16 channel, 3x3 kernel\n",
    "                                        nn.ReLU(),\n",
    "                                        nn.Conv2d(16, 8, 3), #Input 3 channel, Output 8 channel, 3x3 kernel\n",
    "                                        nn.ReLU(),\n",
    "                                    )\n",
    "        self.decoder = nn.Sequential(\n",
    "                                        nn.ConvTranspose2d(8, 8, 3), #Input 8 channel, Output 8 channel, 3x3 kernel\n",
    "                                        nn.ReLU(),\n",
    "                                        nn.ConvTranspose2d(8, 16, 3), # Input 8 channel, Output 16 channel\n",
    "                                        nn.ReLU(),\n",
    "                                        nn.Conv2d(16, 3, 3, padding=1),\n",
    "                                        nn.ReLU(),\n",
    "                                     )\n",
    "    \n",
    "    def get_features(self, x):\n",
    "        encoding, _ = self.forward(x)\n",
    "        encoding = encoding.detach() #Detach (just in case!)\n",
    "        encoding = nn.AvgPool2d(28)(encoding) # Global pool -> (B, 8, 1, 1)\n",
    "        return torch.flatten(encoding, start_dim=1) #(B, 8)\n",
    "        \n",
    "    def forward(self, x):\n",
    "        # x is (B, 1, 28, 28)\n",
    "        encoding = self.encoder(x) # (B, 8, 28, 28)\n",
    "        decoding = self.decoder(encoding) # (B, 3, 32, 32)\n",
    "        assert x.shape == decoding.shape, f\"Input {x.shape} but decoding is {decoding.shape}\"\n",
    "        return encoding, decoding"
   ]
  },
  {
   "cell_type": "markdown",
   "metadata": {},
   "source": [
    "### 1.2 Train the Model\n",
    "\n",
    "Next, we will train the model for 100 epochs. The model will learn to reconstruct CIFAR10 training images. \n",
    "\n",
    "Note: The cell below will download CIFAR10 into \"./data/\" directory automatically."
   ]
  },
  {
   "cell_type": "code",
   "execution_count": 9,
   "metadata": {},
   "outputs": [],
   "source": [
    "# Define Training, Eval\n",
    "def get_data(path): #Helper function to download data just in case\n",
    "    _ = CIFAR10(path, train=True) #Download train data\n",
    "    _ = CIFAR10(path, train=False) #Download val data\n",
    "\n",
    "def train(model, num_epochs):\n",
    "    \"\"\" Returns trained model, list of training losses (per epoch), list of validation losses (per epoch)\"\"\"\n",
    "    \n",
    "    # Download data if needed\n",
    "    get_data(\"./data/\")\n",
    "\n",
    "    # Get CIFAR dataset\n",
    "    train_dataset = CIFAR10(\"./data/\", train=True, transform= transforms.ToTensor(), download=False) #Will download if not in ./data/\n",
    "    dataloader = DataLoader(train_dataset, batch_size=64, shuffle=True, pin_memory=True, num_workers=4)\n",
    "    \n",
    "    model.to(DEVICE)\n",
    "\n",
    "    # Optimizations\n",
    "    optimizer = torch.optim.Adam(model.parameters()) #Using default lr = 0.001\n",
    "    loss_func = nn.MSELoss()\n",
    "\n",
    "    # Train\n",
    "    val_losses = []\n",
    "    training_losses = []\n",
    "    best_val_loss = None\n",
    "    for epoch in tqdm.notebook.trange(num_epochs, desc='training', unit='epoch'):\n",
    "        model.train() #Switch to train, b/c eval turns train off\n",
    "        epoch_loss = 0.\n",
    "        with tqdm.notebook.tqdm(dataloader, desc=f'Epoch {epoch}', unit='instance', total=len(dataloader)) as iterator:\n",
    "            for (i, (img, _)) in enumerate(iterator, start=1):\n",
    "                img = img.to(DEVICE)\n",
    "\n",
    "                _, pred_img = model(img)\n",
    "\n",
    "                loss = loss_func(img, pred_img)\n",
    "                epoch_loss += loss.item()\n",
    "\n",
    "                # Update\n",
    "                optimizer.zero_grad()\n",
    "                loss.backward()\n",
    "                optimizer.step()\n",
    "\n",
    "                # Log\n",
    "                iterator.set_postfix(mean_loss = epoch_loss / i, best_val_loss = best_val_loss)\n",
    "            # Evaluate\n",
    "            if best_val_loss is None:\n",
    "                best_val_loss = float('inf')\n",
    "            val_loss = evaluate(model)\n",
    "            best_val_loss = min(val_loss, best_val_loss)\n",
    "\n",
    "            # Save losses\n",
    "            training_losses.append(epoch_loss / i)\n",
    "            val_losses.append(val_loss)\n",
    "    \n",
    "    torch.save(model.state_dict(), \"cifar10_cae.pth.tar\")\n",
    "    print(\"Model Saved!\")\n",
    "            \n",
    "    return model, training_losses, val_losses\n",
    "\n",
    "def evaluate(model):\n",
    "    \"\"\" Returns reconstruction error (MSE) on validation data\"\"\"\n",
    "\n",
    "    # Get CIFAR10 val data\n",
    "    val_data = CIFAR10(\"./data/\", train=False, transform=transforms.ToTensor(), download=False)\n",
    "    val_dataloader = DataLoader(val_data, batch_size=64, shuffle=False, pin_memory=True, num_workers=4)\n",
    "\n",
    "    # Do not train!\n",
    "    model.eval()\n",
    "    with torch.no_grad():\n",
    "        total_loss = 0.\n",
    "        for (img, _) in val_dataloader:\n",
    "            img = img.to(DEVICE)\n",
    "\n",
    "            _, pred_img = model(img)\n",
    "\n",
    "            total_loss += nn.MSELoss(reduction='sum')(img, pred_img).item()\n",
    "    \n",
    "    return total_loss / len(val_data)\n",
    "\n"
   ]
  },
  {
   "cell_type": "code",
   "execution_count": 10,
   "metadata": {},
   "outputs": [
    {
     "data": {
      "application/vnd.jupyter.widget-view+json": {
       "model_id": "d0075dd4c6814bf38195459d359d7763",
       "version_major": 2,
       "version_minor": 0
      },
      "text/plain": [
       "training:   0%|          | 0/100 [00:00<?, ?epoch/s]"
      ]
     },
     "metadata": {},
     "output_type": "display_data"
    },
    {
     "data": {
      "application/vnd.jupyter.widget-view+json": {
       "model_id": "0449ac78e4714f2d837e6be568d2b934",
       "version_major": 2,
       "version_minor": 0
      },
      "text/plain": [
       "Epoch 0:   0%|          | 0/782 [00:00<?, ?instance/s]"
      ]
     },
     "metadata": {},
     "output_type": "display_data"
    },
    {
     "data": {
      "application/vnd.jupyter.widget-view+json": {
       "model_id": "0f956f1f01c94d3d9ac785b9f52e536d",
       "version_major": 2,
       "version_minor": 0
      },
      "text/plain": [
       "Epoch 1:   0%|          | 0/782 [00:00<?, ?instance/s]"
      ]
     },
     "metadata": {},
     "output_type": "display_data"
    },
    {
     "data": {
      "application/vnd.jupyter.widget-view+json": {
       "model_id": "ba8cfb0d870d479c82e227aea81cf63f",
       "version_major": 2,
       "version_minor": 0
      },
      "text/plain": [
       "Epoch 2:   0%|          | 0/782 [00:00<?, ?instance/s]"
      ]
     },
     "metadata": {},
     "output_type": "display_data"
    },
    {
     "data": {
      "application/vnd.jupyter.widget-view+json": {
       "model_id": "88f88d82f8294afa99853a06f36ca694",
       "version_major": 2,
       "version_minor": 0
      },
      "text/plain": [
       "Epoch 3:   0%|          | 0/782 [00:00<?, ?instance/s]"
      ]
     },
     "metadata": {},
     "output_type": "display_data"
    },
    {
     "data": {
      "application/vnd.jupyter.widget-view+json": {
       "model_id": "dac145983e5e40b491233a50b18a4e27",
       "version_major": 2,
       "version_minor": 0
      },
      "text/plain": [
       "Epoch 4:   0%|          | 0/782 [00:00<?, ?instance/s]"
      ]
     },
     "metadata": {},
     "output_type": "display_data"
    },
    {
     "data": {
      "application/vnd.jupyter.widget-view+json": {
       "model_id": "aa75fe88624c4fdca95f585dcd41e4c7",
       "version_major": 2,
       "version_minor": 0
      },
      "text/plain": [
       "Epoch 5:   0%|          | 0/782 [00:00<?, ?instance/s]"
      ]
     },
     "metadata": {},
     "output_type": "display_data"
    },
    {
     "data": {
      "application/vnd.jupyter.widget-view+json": {
       "model_id": "25a9c23b94aa466884e49252154c1721",
       "version_major": 2,
       "version_minor": 0
      },
      "text/plain": [
       "Epoch 6:   0%|          | 0/782 [00:00<?, ?instance/s]"
      ]
     },
     "metadata": {},
     "output_type": "display_data"
    },
    {
     "data": {
      "application/vnd.jupyter.widget-view+json": {
       "model_id": "606ffc1fa61247f88bdeeb5f44ddaa07",
       "version_major": 2,
       "version_minor": 0
      },
      "text/plain": [
       "Epoch 7:   0%|          | 0/782 [00:00<?, ?instance/s]"
      ]
     },
     "metadata": {},
     "output_type": "display_data"
    },
    {
     "data": {
      "application/vnd.jupyter.widget-view+json": {
       "model_id": "914ebf40de94478c9102885576f90fe6",
       "version_major": 2,
       "version_minor": 0
      },
      "text/plain": [
       "Epoch 8:   0%|          | 0/782 [00:00<?, ?instance/s]"
      ]
     },
     "metadata": {},
     "output_type": "display_data"
    },
    {
     "data": {
      "application/vnd.jupyter.widget-view+json": {
       "model_id": "31073cc170f74d90bef089f2dca878a5",
       "version_major": 2,
       "version_minor": 0
      },
      "text/plain": [
       "Epoch 9:   0%|          | 0/782 [00:00<?, ?instance/s]"
      ]
     },
     "metadata": {},
     "output_type": "display_data"
    },
    {
     "data": {
      "application/vnd.jupyter.widget-view+json": {
       "model_id": "14bbf3b21b094f1fb4f47ae5a3b3baaf",
       "version_major": 2,
       "version_minor": 0
      },
      "text/plain": [
       "Epoch 10:   0%|          | 0/782 [00:00<?, ?instance/s]"
      ]
     },
     "metadata": {},
     "output_type": "display_data"
    },
    {
     "data": {
      "application/vnd.jupyter.widget-view+json": {
       "model_id": "8d6c0dedf89348d79aff05d1c201e3cb",
       "version_major": 2,
       "version_minor": 0
      },
      "text/plain": [
       "Epoch 11:   0%|          | 0/782 [00:00<?, ?instance/s]"
      ]
     },
     "metadata": {},
     "output_type": "display_data"
    },
    {
     "data": {
      "application/vnd.jupyter.widget-view+json": {
       "model_id": "ca687728dd534c12a43e2727ce501bc5",
       "version_major": 2,
       "version_minor": 0
      },
      "text/plain": [
       "Epoch 12:   0%|          | 0/782 [00:00<?, ?instance/s]"
      ]
     },
     "metadata": {},
     "output_type": "display_data"
    },
    {
     "data": {
      "application/vnd.jupyter.widget-view+json": {
       "model_id": "588e42df61d74b6aa31ef9ed43c659a2",
       "version_major": 2,
       "version_minor": 0
      },
      "text/plain": [
       "Epoch 13:   0%|          | 0/782 [00:00<?, ?instance/s]"
      ]
     },
     "metadata": {},
     "output_type": "display_data"
    },
    {
     "data": {
      "application/vnd.jupyter.widget-view+json": {
       "model_id": "c33d47af5b9748f0b573021e6e73c119",
       "version_major": 2,
       "version_minor": 0
      },
      "text/plain": [
       "Epoch 14:   0%|          | 0/782 [00:00<?, ?instance/s]"
      ]
     },
     "metadata": {},
     "output_type": "display_data"
    },
    {
     "data": {
      "application/vnd.jupyter.widget-view+json": {
       "model_id": "5c651645a3fd4cf1b7fdeddea17cc98c",
       "version_major": 2,
       "version_minor": 0
      },
      "text/plain": [
       "Epoch 15:   0%|          | 0/782 [00:00<?, ?instance/s]"
      ]
     },
     "metadata": {},
     "output_type": "display_data"
    },
    {
     "data": {
      "application/vnd.jupyter.widget-view+json": {
       "model_id": "31e6b09660f244e2b3f67d530d6ad1de",
       "version_major": 2,
       "version_minor": 0
      },
      "text/plain": [
       "Epoch 16:   0%|          | 0/782 [00:00<?, ?instance/s]"
      ]
     },
     "metadata": {},
     "output_type": "display_data"
    },
    {
     "data": {
      "application/vnd.jupyter.widget-view+json": {
       "model_id": "9f067b9d3ed74b608a2825379f845f4a",
       "version_major": 2,
       "version_minor": 0
      },
      "text/plain": [
       "Epoch 17:   0%|          | 0/782 [00:00<?, ?instance/s]"
      ]
     },
     "metadata": {},
     "output_type": "display_data"
    },
    {
     "data": {
      "application/vnd.jupyter.widget-view+json": {
       "model_id": "7561c50ea51943a4aee9580ff5c6f3db",
       "version_major": 2,
       "version_minor": 0
      },
      "text/plain": [
       "Epoch 18:   0%|          | 0/782 [00:00<?, ?instance/s]"
      ]
     },
     "metadata": {},
     "output_type": "display_data"
    },
    {
     "data": {
      "application/vnd.jupyter.widget-view+json": {
       "model_id": "98798cb9f3e2474a889f83cf9960bfc7",
       "version_major": 2,
       "version_minor": 0
      },
      "text/plain": [
       "Epoch 19:   0%|          | 0/782 [00:00<?, ?instance/s]"
      ]
     },
     "metadata": {},
     "output_type": "display_data"
    },
    {
     "data": {
      "application/vnd.jupyter.widget-view+json": {
       "model_id": "e532e2f8c9cb4e67b532a8c9416df017",
       "version_major": 2,
       "version_minor": 0
      },
      "text/plain": [
       "Epoch 20:   0%|          | 0/782 [00:00<?, ?instance/s]"
      ]
     },
     "metadata": {},
     "output_type": "display_data"
    },
    {
     "data": {
      "application/vnd.jupyter.widget-view+json": {
       "model_id": "6781dc90d84f42f2bb3e4ec26e4df1b4",
       "version_major": 2,
       "version_minor": 0
      },
      "text/plain": [
       "Epoch 21:   0%|          | 0/782 [00:00<?, ?instance/s]"
      ]
     },
     "metadata": {},
     "output_type": "display_data"
    },
    {
     "data": {
      "application/vnd.jupyter.widget-view+json": {
       "model_id": "93caeefe80e945158eb1f071d5f6386b",
       "version_major": 2,
       "version_minor": 0
      },
      "text/plain": [
       "Epoch 22:   0%|          | 0/782 [00:00<?, ?instance/s]"
      ]
     },
     "metadata": {},
     "output_type": "display_data"
    },
    {
     "data": {
      "application/vnd.jupyter.widget-view+json": {
       "model_id": "1fd52c0a68be44fba88cb3e2fe61550f",
       "version_major": 2,
       "version_minor": 0
      },
      "text/plain": [
       "Epoch 23:   0%|          | 0/782 [00:00<?, ?instance/s]"
      ]
     },
     "metadata": {},
     "output_type": "display_data"
    },
    {
     "data": {
      "application/vnd.jupyter.widget-view+json": {
       "model_id": "980ebd3df3334ecabe44bfc9662345c2",
       "version_major": 2,
       "version_minor": 0
      },
      "text/plain": [
       "Epoch 24:   0%|          | 0/782 [00:00<?, ?instance/s]"
      ]
     },
     "metadata": {},
     "output_type": "display_data"
    },
    {
     "data": {
      "application/vnd.jupyter.widget-view+json": {
       "model_id": "56a80e6084964cbbbc6c79cd789f3daf",
       "version_major": 2,
       "version_minor": 0
      },
      "text/plain": [
       "Epoch 25:   0%|          | 0/782 [00:00<?, ?instance/s]"
      ]
     },
     "metadata": {},
     "output_type": "display_data"
    },
    {
     "data": {
      "application/vnd.jupyter.widget-view+json": {
       "model_id": "1301ce20da6e4d8a8acc267fc8f5c9a9",
       "version_major": 2,
       "version_minor": 0
      },
      "text/plain": [
       "Epoch 26:   0%|          | 0/782 [00:00<?, ?instance/s]"
      ]
     },
     "metadata": {},
     "output_type": "display_data"
    },
    {
     "data": {
      "application/vnd.jupyter.widget-view+json": {
       "model_id": "97fb1cede67f425db7f1fd65978ad351",
       "version_major": 2,
       "version_minor": 0
      },
      "text/plain": [
       "Epoch 27:   0%|          | 0/782 [00:00<?, ?instance/s]"
      ]
     },
     "metadata": {},
     "output_type": "display_data"
    },
    {
     "data": {
      "application/vnd.jupyter.widget-view+json": {
       "model_id": "76c2cf8a671140c7b63094a5b8dbb9e0",
       "version_major": 2,
       "version_minor": 0
      },
      "text/plain": [
       "Epoch 28:   0%|          | 0/782 [00:00<?, ?instance/s]"
      ]
     },
     "metadata": {},
     "output_type": "display_data"
    },
    {
     "data": {
      "application/vnd.jupyter.widget-view+json": {
       "model_id": "450f6201c3064ad8a35b6e28b392230c",
       "version_major": 2,
       "version_minor": 0
      },
      "text/plain": [
       "Epoch 29:   0%|          | 0/782 [00:00<?, ?instance/s]"
      ]
     },
     "metadata": {},
     "output_type": "display_data"
    },
    {
     "data": {
      "application/vnd.jupyter.widget-view+json": {
       "model_id": "157dae6598df46a88cdf5d8a33563693",
       "version_major": 2,
       "version_minor": 0
      },
      "text/plain": [
       "Epoch 30:   0%|          | 0/782 [00:00<?, ?instance/s]"
      ]
     },
     "metadata": {},
     "output_type": "display_data"
    },
    {
     "data": {
      "application/vnd.jupyter.widget-view+json": {
       "model_id": "8ee82dce2f71416db7eabf1303056af6",
       "version_major": 2,
       "version_minor": 0
      },
      "text/plain": [
       "Epoch 31:   0%|          | 0/782 [00:00<?, ?instance/s]"
      ]
     },
     "metadata": {},
     "output_type": "display_data"
    },
    {
     "data": {
      "application/vnd.jupyter.widget-view+json": {
       "model_id": "430c854d1d3b4fd5b18fe719dc10c62a",
       "version_major": 2,
       "version_minor": 0
      },
      "text/plain": [
       "Epoch 32:   0%|          | 0/782 [00:00<?, ?instance/s]"
      ]
     },
     "metadata": {},
     "output_type": "display_data"
    },
    {
     "data": {
      "application/vnd.jupyter.widget-view+json": {
       "model_id": "01336a19829d482c85da9fe3e3a2abec",
       "version_major": 2,
       "version_minor": 0
      },
      "text/plain": [
       "Epoch 33:   0%|          | 0/782 [00:00<?, ?instance/s]"
      ]
     },
     "metadata": {},
     "output_type": "display_data"
    },
    {
     "data": {
      "application/vnd.jupyter.widget-view+json": {
       "model_id": "3029023e89394a1b88628e269c587ccd",
       "version_major": 2,
       "version_minor": 0
      },
      "text/plain": [
       "Epoch 34:   0%|          | 0/782 [00:00<?, ?instance/s]"
      ]
     },
     "metadata": {},
     "output_type": "display_data"
    },
    {
     "data": {
      "application/vnd.jupyter.widget-view+json": {
       "model_id": "ac00ecf3cede4baeb327f3f6d8a99447",
       "version_major": 2,
       "version_minor": 0
      },
      "text/plain": [
       "Epoch 35:   0%|          | 0/782 [00:00<?, ?instance/s]"
      ]
     },
     "metadata": {},
     "output_type": "display_data"
    },
    {
     "data": {
      "application/vnd.jupyter.widget-view+json": {
       "model_id": "97d23121d7764be9b1571a52b22781cf",
       "version_major": 2,
       "version_minor": 0
      },
      "text/plain": [
       "Epoch 36:   0%|          | 0/782 [00:00<?, ?instance/s]"
      ]
     },
     "metadata": {},
     "output_type": "display_data"
    },
    {
     "data": {
      "application/vnd.jupyter.widget-view+json": {
       "model_id": "61313ae0fc1a4e26ba1b86d4793a7b20",
       "version_major": 2,
       "version_minor": 0
      },
      "text/plain": [
       "Epoch 37:   0%|          | 0/782 [00:00<?, ?instance/s]"
      ]
     },
     "metadata": {},
     "output_type": "display_data"
    },
    {
     "data": {
      "application/vnd.jupyter.widget-view+json": {
       "model_id": "6677a8d74a614cb9b522c64689cd79be",
       "version_major": 2,
       "version_minor": 0
      },
      "text/plain": [
       "Epoch 38:   0%|          | 0/782 [00:00<?, ?instance/s]"
      ]
     },
     "metadata": {},
     "output_type": "display_data"
    },
    {
     "data": {
      "application/vnd.jupyter.widget-view+json": {
       "model_id": "af472dab99104b5894a5b60197c90196",
       "version_major": 2,
       "version_minor": 0
      },
      "text/plain": [
       "Epoch 39:   0%|          | 0/782 [00:00<?, ?instance/s]"
      ]
     },
     "metadata": {},
     "output_type": "display_data"
    },
    {
     "data": {
      "application/vnd.jupyter.widget-view+json": {
       "model_id": "9a8460e40a174f1eb62fe34abe6ee472",
       "version_major": 2,
       "version_minor": 0
      },
      "text/plain": [
       "Epoch 40:   0%|          | 0/782 [00:00<?, ?instance/s]"
      ]
     },
     "metadata": {},
     "output_type": "display_data"
    },
    {
     "data": {
      "application/vnd.jupyter.widget-view+json": {
       "model_id": "e1eb37ef4fc14eb2ba1bcfaa5cb151c2",
       "version_major": 2,
       "version_minor": 0
      },
      "text/plain": [
       "Epoch 41:   0%|          | 0/782 [00:00<?, ?instance/s]"
      ]
     },
     "metadata": {},
     "output_type": "display_data"
    },
    {
     "data": {
      "application/vnd.jupyter.widget-view+json": {
       "model_id": "8fee042e046b417e830c940622e14304",
       "version_major": 2,
       "version_minor": 0
      },
      "text/plain": [
       "Epoch 42:   0%|          | 0/782 [00:00<?, ?instance/s]"
      ]
     },
     "metadata": {},
     "output_type": "display_data"
    },
    {
     "data": {
      "application/vnd.jupyter.widget-view+json": {
       "model_id": "81bc0c7e71db4321b0d2df9aa9b92778",
       "version_major": 2,
       "version_minor": 0
      },
      "text/plain": [
       "Epoch 43:   0%|          | 0/782 [00:00<?, ?instance/s]"
      ]
     },
     "metadata": {},
     "output_type": "display_data"
    },
    {
     "data": {
      "application/vnd.jupyter.widget-view+json": {
       "model_id": "871a57eadd8b4f959c91936fe7b0f7cc",
       "version_major": 2,
       "version_minor": 0
      },
      "text/plain": [
       "Epoch 44:   0%|          | 0/782 [00:00<?, ?instance/s]"
      ]
     },
     "metadata": {},
     "output_type": "display_data"
    },
    {
     "data": {
      "application/vnd.jupyter.widget-view+json": {
       "model_id": "585eb2c1c6ea4a83a780b2341dd7bf19",
       "version_major": 2,
       "version_minor": 0
      },
      "text/plain": [
       "Epoch 45:   0%|          | 0/782 [00:00<?, ?instance/s]"
      ]
     },
     "metadata": {},
     "output_type": "display_data"
    },
    {
     "data": {
      "application/vnd.jupyter.widget-view+json": {
       "model_id": "76d6e8b0d0b94a4fbcd74750449cdaee",
       "version_major": 2,
       "version_minor": 0
      },
      "text/plain": [
       "Epoch 46:   0%|          | 0/782 [00:00<?, ?instance/s]"
      ]
     },
     "metadata": {},
     "output_type": "display_data"
    },
    {
     "data": {
      "application/vnd.jupyter.widget-view+json": {
       "model_id": "3bc44925cd4c462fb249a6fd0fda19a8",
       "version_major": 2,
       "version_minor": 0
      },
      "text/plain": [
       "Epoch 47:   0%|          | 0/782 [00:00<?, ?instance/s]"
      ]
     },
     "metadata": {},
     "output_type": "display_data"
    },
    {
     "data": {
      "application/vnd.jupyter.widget-view+json": {
       "model_id": "b57b1d8a01b049019cb6b15687419396",
       "version_major": 2,
       "version_minor": 0
      },
      "text/plain": [
       "Epoch 48:   0%|          | 0/782 [00:00<?, ?instance/s]"
      ]
     },
     "metadata": {},
     "output_type": "display_data"
    },
    {
     "data": {
      "application/vnd.jupyter.widget-view+json": {
       "model_id": "9aa6b190dbce435190457bcd33fe6a02",
       "version_major": 2,
       "version_minor": 0
      },
      "text/plain": [
       "Epoch 49:   0%|          | 0/782 [00:00<?, ?instance/s]"
      ]
     },
     "metadata": {},
     "output_type": "display_data"
    },
    {
     "data": {
      "application/vnd.jupyter.widget-view+json": {
       "model_id": "1763b3e96ca343669a3d742b9c3ce79a",
       "version_major": 2,
       "version_minor": 0
      },
      "text/plain": [
       "Epoch 50:   0%|          | 0/782 [00:00<?, ?instance/s]"
      ]
     },
     "metadata": {},
     "output_type": "display_data"
    },
    {
     "data": {
      "application/vnd.jupyter.widget-view+json": {
       "model_id": "00c59bd347194f8e9aa37e4a0e653488",
       "version_major": 2,
       "version_minor": 0
      },
      "text/plain": [
       "Epoch 51:   0%|          | 0/782 [00:00<?, ?instance/s]"
      ]
     },
     "metadata": {},
     "output_type": "display_data"
    },
    {
     "data": {
      "application/vnd.jupyter.widget-view+json": {
       "model_id": "b4a7ea21b02d4c5192a1ac89009e1ab2",
       "version_major": 2,
       "version_minor": 0
      },
      "text/plain": [
       "Epoch 52:   0%|          | 0/782 [00:00<?, ?instance/s]"
      ]
     },
     "metadata": {},
     "output_type": "display_data"
    },
    {
     "data": {
      "application/vnd.jupyter.widget-view+json": {
       "model_id": "eac0b4cc5e774fb4b45999574c2ac34a",
       "version_major": 2,
       "version_minor": 0
      },
      "text/plain": [
       "Epoch 53:   0%|          | 0/782 [00:00<?, ?instance/s]"
      ]
     },
     "metadata": {},
     "output_type": "display_data"
    },
    {
     "data": {
      "application/vnd.jupyter.widget-view+json": {
       "model_id": "acd4e547309648c0bbecdb855f23cad6",
       "version_major": 2,
       "version_minor": 0
      },
      "text/plain": [
       "Epoch 54:   0%|          | 0/782 [00:00<?, ?instance/s]"
      ]
     },
     "metadata": {},
     "output_type": "display_data"
    },
    {
     "data": {
      "application/vnd.jupyter.widget-view+json": {
       "model_id": "afe9b9d186994a5db8e72fc57082fef4",
       "version_major": 2,
       "version_minor": 0
      },
      "text/plain": [
       "Epoch 55:   0%|          | 0/782 [00:00<?, ?instance/s]"
      ]
     },
     "metadata": {},
     "output_type": "display_data"
    },
    {
     "data": {
      "application/vnd.jupyter.widget-view+json": {
       "model_id": "3459ef931c9a40e3a246b016b8a3f8ef",
       "version_major": 2,
       "version_minor": 0
      },
      "text/plain": [
       "Epoch 56:   0%|          | 0/782 [00:00<?, ?instance/s]"
      ]
     },
     "metadata": {},
     "output_type": "display_data"
    },
    {
     "data": {
      "application/vnd.jupyter.widget-view+json": {
       "model_id": "bd2db3e630bc491eaeef4e31ab74de2b",
       "version_major": 2,
       "version_minor": 0
      },
      "text/plain": [
       "Epoch 57:   0%|          | 0/782 [00:00<?, ?instance/s]"
      ]
     },
     "metadata": {},
     "output_type": "display_data"
    },
    {
     "data": {
      "application/vnd.jupyter.widget-view+json": {
       "model_id": "8e6aca1cfc78465ca045e3a76c66e315",
       "version_major": 2,
       "version_minor": 0
      },
      "text/plain": [
       "Epoch 58:   0%|          | 0/782 [00:00<?, ?instance/s]"
      ]
     },
     "metadata": {},
     "output_type": "display_data"
    },
    {
     "data": {
      "application/vnd.jupyter.widget-view+json": {
       "model_id": "44ec65a7cb054aef89b91bce3c57a882",
       "version_major": 2,
       "version_minor": 0
      },
      "text/plain": [
       "Epoch 59:   0%|          | 0/782 [00:00<?, ?instance/s]"
      ]
     },
     "metadata": {},
     "output_type": "display_data"
    },
    {
     "data": {
      "application/vnd.jupyter.widget-view+json": {
       "model_id": "a5050b105c44420f8a02e9d7dce5e97e",
       "version_major": 2,
       "version_minor": 0
      },
      "text/plain": [
       "Epoch 60:   0%|          | 0/782 [00:00<?, ?instance/s]"
      ]
     },
     "metadata": {},
     "output_type": "display_data"
    },
    {
     "data": {
      "application/vnd.jupyter.widget-view+json": {
       "model_id": "614532a151fb401cbb2a5145dd5ba0d6",
       "version_major": 2,
       "version_minor": 0
      },
      "text/plain": [
       "Epoch 61:   0%|          | 0/782 [00:00<?, ?instance/s]"
      ]
     },
     "metadata": {},
     "output_type": "display_data"
    },
    {
     "data": {
      "application/vnd.jupyter.widget-view+json": {
       "model_id": "a829a35078af4acbb32acfeaa19a8ecc",
       "version_major": 2,
       "version_minor": 0
      },
      "text/plain": [
       "Epoch 62:   0%|          | 0/782 [00:00<?, ?instance/s]"
      ]
     },
     "metadata": {},
     "output_type": "display_data"
    },
    {
     "data": {
      "application/vnd.jupyter.widget-view+json": {
       "model_id": "3261de3fdb354a9784b155a070be1730",
       "version_major": 2,
       "version_minor": 0
      },
      "text/plain": [
       "Epoch 63:   0%|          | 0/782 [00:00<?, ?instance/s]"
      ]
     },
     "metadata": {},
     "output_type": "display_data"
    },
    {
     "data": {
      "application/vnd.jupyter.widget-view+json": {
       "model_id": "c7159994583e43ff9bdbe084e2408866",
       "version_major": 2,
       "version_minor": 0
      },
      "text/plain": [
       "Epoch 64:   0%|          | 0/782 [00:00<?, ?instance/s]"
      ]
     },
     "metadata": {},
     "output_type": "display_data"
    },
    {
     "data": {
      "application/vnd.jupyter.widget-view+json": {
       "model_id": "a4fc6ec547a346f3b829f46d767929b8",
       "version_major": 2,
       "version_minor": 0
      },
      "text/plain": [
       "Epoch 65:   0%|          | 0/782 [00:00<?, ?instance/s]"
      ]
     },
     "metadata": {},
     "output_type": "display_data"
    },
    {
     "data": {
      "application/vnd.jupyter.widget-view+json": {
       "model_id": "e77da6bd8c7547e6871b8bd5300fb7a0",
       "version_major": 2,
       "version_minor": 0
      },
      "text/plain": [
       "Epoch 66:   0%|          | 0/782 [00:00<?, ?instance/s]"
      ]
     },
     "metadata": {},
     "output_type": "display_data"
    },
    {
     "data": {
      "application/vnd.jupyter.widget-view+json": {
       "model_id": "15c91ab788fe4a5fa2bba04f22206d98",
       "version_major": 2,
       "version_minor": 0
      },
      "text/plain": [
       "Epoch 67:   0%|          | 0/782 [00:00<?, ?instance/s]"
      ]
     },
     "metadata": {},
     "output_type": "display_data"
    },
    {
     "data": {
      "application/vnd.jupyter.widget-view+json": {
       "model_id": "ec1f64fb5c35424d8293f8d2838719ec",
       "version_major": 2,
       "version_minor": 0
      },
      "text/plain": [
       "Epoch 68:   0%|          | 0/782 [00:00<?, ?instance/s]"
      ]
     },
     "metadata": {},
     "output_type": "display_data"
    },
    {
     "data": {
      "application/vnd.jupyter.widget-view+json": {
       "model_id": "a4c8f942be884cb5bfc18a4c56147ca4",
       "version_major": 2,
       "version_minor": 0
      },
      "text/plain": [
       "Epoch 69:   0%|          | 0/782 [00:00<?, ?instance/s]"
      ]
     },
     "metadata": {},
     "output_type": "display_data"
    },
    {
     "data": {
      "application/vnd.jupyter.widget-view+json": {
       "model_id": "6a15b61b69fd49de88d1b2afeeb4e4c7",
       "version_major": 2,
       "version_minor": 0
      },
      "text/plain": [
       "Epoch 70:   0%|          | 0/782 [00:00<?, ?instance/s]"
      ]
     },
     "metadata": {},
     "output_type": "display_data"
    },
    {
     "data": {
      "application/vnd.jupyter.widget-view+json": {
       "model_id": "4ad5683ae5df4493b9875b0f203a70a4",
       "version_major": 2,
       "version_minor": 0
      },
      "text/plain": [
       "Epoch 71:   0%|          | 0/782 [00:00<?, ?instance/s]"
      ]
     },
     "metadata": {},
     "output_type": "display_data"
    },
    {
     "data": {
      "application/vnd.jupyter.widget-view+json": {
       "model_id": "2d0c3efd9bab4eaa843f0b132af4a990",
       "version_major": 2,
       "version_minor": 0
      },
      "text/plain": [
       "Epoch 72:   0%|          | 0/782 [00:00<?, ?instance/s]"
      ]
     },
     "metadata": {},
     "output_type": "display_data"
    },
    {
     "data": {
      "application/vnd.jupyter.widget-view+json": {
       "model_id": "e83dfd4b1e7b484780576a34de044c55",
       "version_major": 2,
       "version_minor": 0
      },
      "text/plain": [
       "Epoch 73:   0%|          | 0/782 [00:00<?, ?instance/s]"
      ]
     },
     "metadata": {},
     "output_type": "display_data"
    },
    {
     "data": {
      "application/vnd.jupyter.widget-view+json": {
       "model_id": "c7079146ed874e828b3da75f9865c1da",
       "version_major": 2,
       "version_minor": 0
      },
      "text/plain": [
       "Epoch 74:   0%|          | 0/782 [00:00<?, ?instance/s]"
      ]
     },
     "metadata": {},
     "output_type": "display_data"
    },
    {
     "data": {
      "application/vnd.jupyter.widget-view+json": {
       "model_id": "4f60d1b990354219aeb3b63f726ab555",
       "version_major": 2,
       "version_minor": 0
      },
      "text/plain": [
       "Epoch 75:   0%|          | 0/782 [00:00<?, ?instance/s]"
      ]
     },
     "metadata": {},
     "output_type": "display_data"
    },
    {
     "data": {
      "application/vnd.jupyter.widget-view+json": {
       "model_id": "0c79bf0ee1324d75be1adf42b2289852",
       "version_major": 2,
       "version_minor": 0
      },
      "text/plain": [
       "Epoch 76:   0%|          | 0/782 [00:00<?, ?instance/s]"
      ]
     },
     "metadata": {},
     "output_type": "display_data"
    },
    {
     "data": {
      "application/vnd.jupyter.widget-view+json": {
       "model_id": "e3d1333744434c3390d325bc0d649e72",
       "version_major": 2,
       "version_minor": 0
      },
      "text/plain": [
       "Epoch 77:   0%|          | 0/782 [00:00<?, ?instance/s]"
      ]
     },
     "metadata": {},
     "output_type": "display_data"
    },
    {
     "data": {
      "application/vnd.jupyter.widget-view+json": {
       "model_id": "0ecd777fa77144efac73a4d0b973cc28",
       "version_major": 2,
       "version_minor": 0
      },
      "text/plain": [
       "Epoch 78:   0%|          | 0/782 [00:00<?, ?instance/s]"
      ]
     },
     "metadata": {},
     "output_type": "display_data"
    },
    {
     "data": {
      "application/vnd.jupyter.widget-view+json": {
       "model_id": "902029b9cb594e08ab5a3bedacc41fc6",
       "version_major": 2,
       "version_minor": 0
      },
      "text/plain": [
       "Epoch 79:   0%|          | 0/782 [00:00<?, ?instance/s]"
      ]
     },
     "metadata": {},
     "output_type": "display_data"
    },
    {
     "data": {
      "application/vnd.jupyter.widget-view+json": {
       "model_id": "1da547c84d5d43859730db9e734a772f",
       "version_major": 2,
       "version_minor": 0
      },
      "text/plain": [
       "Epoch 80:   0%|          | 0/782 [00:00<?, ?instance/s]"
      ]
     },
     "metadata": {},
     "output_type": "display_data"
    },
    {
     "data": {
      "application/vnd.jupyter.widget-view+json": {
       "model_id": "55a53d7ad9634a269751cdfa5c308285",
       "version_major": 2,
       "version_minor": 0
      },
      "text/plain": [
       "Epoch 81:   0%|          | 0/782 [00:00<?, ?instance/s]"
      ]
     },
     "metadata": {},
     "output_type": "display_data"
    },
    {
     "data": {
      "application/vnd.jupyter.widget-view+json": {
       "model_id": "8bdc808ca808480eb0637b0ea8a2b6d9",
       "version_major": 2,
       "version_minor": 0
      },
      "text/plain": [
       "Epoch 82:   0%|          | 0/782 [00:00<?, ?instance/s]"
      ]
     },
     "metadata": {},
     "output_type": "display_data"
    },
    {
     "data": {
      "application/vnd.jupyter.widget-view+json": {
       "model_id": "31d6f6d715ae4c8ba5929b2ac84265d2",
       "version_major": 2,
       "version_minor": 0
      },
      "text/plain": [
       "Epoch 83:   0%|          | 0/782 [00:00<?, ?instance/s]"
      ]
     },
     "metadata": {},
     "output_type": "display_data"
    },
    {
     "data": {
      "application/vnd.jupyter.widget-view+json": {
       "model_id": "476528460b864322bac0fe2d9eb97553",
       "version_major": 2,
       "version_minor": 0
      },
      "text/plain": [
       "Epoch 84:   0%|          | 0/782 [00:00<?, ?instance/s]"
      ]
     },
     "metadata": {},
     "output_type": "display_data"
    },
    {
     "data": {
      "application/vnd.jupyter.widget-view+json": {
       "model_id": "b5a4487e51f441fd952f18ea95bef0af",
       "version_major": 2,
       "version_minor": 0
      },
      "text/plain": [
       "Epoch 85:   0%|          | 0/782 [00:00<?, ?instance/s]"
      ]
     },
     "metadata": {},
     "output_type": "display_data"
    },
    {
     "data": {
      "application/vnd.jupyter.widget-view+json": {
       "model_id": "b003095c8e314c8c91f47b19d68fce98",
       "version_major": 2,
       "version_minor": 0
      },
      "text/plain": [
       "Epoch 86:   0%|          | 0/782 [00:00<?, ?instance/s]"
      ]
     },
     "metadata": {},
     "output_type": "display_data"
    },
    {
     "data": {
      "application/vnd.jupyter.widget-view+json": {
       "model_id": "483822876d91481d87c0b15f26ad8596",
       "version_major": 2,
       "version_minor": 0
      },
      "text/plain": [
       "Epoch 87:   0%|          | 0/782 [00:00<?, ?instance/s]"
      ]
     },
     "metadata": {},
     "output_type": "display_data"
    },
    {
     "data": {
      "application/vnd.jupyter.widget-view+json": {
       "model_id": "d03b497f219044afaa3bea5c4097a037",
       "version_major": 2,
       "version_minor": 0
      },
      "text/plain": [
       "Epoch 88:   0%|          | 0/782 [00:00<?, ?instance/s]"
      ]
     },
     "metadata": {},
     "output_type": "display_data"
    },
    {
     "data": {
      "application/vnd.jupyter.widget-view+json": {
       "model_id": "1507e0c30e91411abcd641a22a97cf81",
       "version_major": 2,
       "version_minor": 0
      },
      "text/plain": [
       "Epoch 89:   0%|          | 0/782 [00:00<?, ?instance/s]"
      ]
     },
     "metadata": {},
     "output_type": "display_data"
    },
    {
     "data": {
      "application/vnd.jupyter.widget-view+json": {
       "model_id": "e32f91b8682c448c9f0e31d2071d73d3",
       "version_major": 2,
       "version_minor": 0
      },
      "text/plain": [
       "Epoch 90:   0%|          | 0/782 [00:00<?, ?instance/s]"
      ]
     },
     "metadata": {},
     "output_type": "display_data"
    },
    {
     "data": {
      "application/vnd.jupyter.widget-view+json": {
       "model_id": "591e26582662403787555550e806e3e3",
       "version_major": 2,
       "version_minor": 0
      },
      "text/plain": [
       "Epoch 91:   0%|          | 0/782 [00:00<?, ?instance/s]"
      ]
     },
     "metadata": {},
     "output_type": "display_data"
    },
    {
     "data": {
      "application/vnd.jupyter.widget-view+json": {
       "model_id": "299c405ba0904261848d74b301eae80e",
       "version_major": 2,
       "version_minor": 0
      },
      "text/plain": [
       "Epoch 92:   0%|          | 0/782 [00:00<?, ?instance/s]"
      ]
     },
     "metadata": {},
     "output_type": "display_data"
    },
    {
     "data": {
      "application/vnd.jupyter.widget-view+json": {
       "model_id": "64ef2abf62ba4bc2b14cf9659d8b7509",
       "version_major": 2,
       "version_minor": 0
      },
      "text/plain": [
       "Epoch 93:   0%|          | 0/782 [00:00<?, ?instance/s]"
      ]
     },
     "metadata": {},
     "output_type": "display_data"
    },
    {
     "data": {
      "application/vnd.jupyter.widget-view+json": {
       "model_id": "ddc61607c4524e6b85d2ae6344de53b9",
       "version_major": 2,
       "version_minor": 0
      },
      "text/plain": [
       "Epoch 94:   0%|          | 0/782 [00:00<?, ?instance/s]"
      ]
     },
     "metadata": {},
     "output_type": "display_data"
    },
    {
     "data": {
      "application/vnd.jupyter.widget-view+json": {
       "model_id": "5f0aa149634e43f59a08d841f5e3a522",
       "version_major": 2,
       "version_minor": 0
      },
      "text/plain": [
       "Epoch 95:   0%|          | 0/782 [00:00<?, ?instance/s]"
      ]
     },
     "metadata": {},
     "output_type": "display_data"
    },
    {
     "data": {
      "application/vnd.jupyter.widget-view+json": {
       "model_id": "1b9dbb0fef2048b9af19f7b4f1da8b8a",
       "version_major": 2,
       "version_minor": 0
      },
      "text/plain": [
       "Epoch 96:   0%|          | 0/782 [00:00<?, ?instance/s]"
      ]
     },
     "metadata": {},
     "output_type": "display_data"
    },
    {
     "data": {
      "application/vnd.jupyter.widget-view+json": {
       "model_id": "430237012147474e950ac35ea9d8e391",
       "version_major": 2,
       "version_minor": 0
      },
      "text/plain": [
       "Epoch 97:   0%|          | 0/782 [00:00<?, ?instance/s]"
      ]
     },
     "metadata": {},
     "output_type": "display_data"
    },
    {
     "data": {
      "application/vnd.jupyter.widget-view+json": {
       "model_id": "6716a25c7dfb49279ee3be02a23d4dd4",
       "version_major": 2,
       "version_minor": 0
      },
      "text/plain": [
       "Epoch 98:   0%|          | 0/782 [00:00<?, ?instance/s]"
      ]
     },
     "metadata": {},
     "output_type": "display_data"
    },
    {
     "data": {
      "application/vnd.jupyter.widget-view+json": {
       "model_id": "c10c0b3ad04046df859c3bda809b835c",
       "version_major": 2,
       "version_minor": 0
      },
      "text/plain": [
       "Epoch 99:   0%|          | 0/782 [00:00<?, ?instance/s]"
      ]
     },
     "metadata": {},
     "output_type": "display_data"
    },
    {
     "name": "stdout",
     "output_type": "stream",
     "text": [
      "Model Saved!\n"
     ]
    }
   ],
   "source": [
    "# Create model and train\n",
    "autoencoder = ConvAutoEncoder()\n",
    "trained_autoencoder, train_losses, val_losses = train(autoencoder, 100)"
   ]
  },
  {
   "cell_type": "markdown",
   "metadata": {},
   "source": [
    "### 1.3 Visualize Predictions (Optional)\n",
    "\n",
    "Finally, we will visualize some of our model's predictions below!"
   ]
  },
  {
   "cell_type": "code",
   "execution_count": 11,
   "metadata": {},
   "outputs": [
    {
     "name": "stderr",
     "output_type": "stream",
     "text": [
      "Clipping input data to the valid range for imshow with RGB data ([0..1] for floats or [0..255] for integers).\n"
     ]
    },
    {
     "data": {
      "text/plain": [
       "<Figure size 432x288 with 0 Axes>"
      ]
     },
     "metadata": {},
     "output_type": "display_data"
    },
    {
     "data": {
      "image/png": "[encoded data removed]",
      "text/plain": [
       "<Figure size 432x288 with 2 Axes>"
      ]
     },
     "metadata": {
      "needs_background": "light"
     },
     "output_type": "display_data"
    }
   ],
   "source": [
    "def visualize(model): #Visualize predictions on validation set\n",
    "\n",
    "    # Get data\n",
    "    dataset = CIFAR10(\"./data/\", train=False, transform=transforms.ToTensor())\n",
    "    img_indices = random.sample(range(len(dataset)), 16) #Randomly sample validation images to visualize\n",
    "    dataset = torch.utils.data.Subset(dataset, img_indices)\n",
    "    dataloader = DataLoader(dataset, shuffle=False, batch_size=len(dataset), pin_memory=True)\n",
    "\n",
    "    plt.figure()\n",
    "    f, axes = plt.subplots(2,1) \n",
    "\n",
    "    model.eval()\n",
    "    with torch.no_grad():\n",
    "        for (img, _) in dataloader:\n",
    "            img = img.to(DEVICE)\n",
    "\n",
    "            _, prediction = model(img)\n",
    "\n",
    "            axes[0].axis('off')\n",
    "            axes[1].axis('off')\n",
    "\n",
    "            axes[0].set_title(\"Prediction\")\n",
    "            axes[1].set_title(\"Original Image\")\n",
    "\n",
    "            axes[0].imshow(torchvision.utils.make_grid(prediction).permute(1,2,0).cpu().numpy())\n",
    "            axes[1].imshow(torchvision.utils.make_grid(img).permute(1,2,0).cpu().numpy())\n",
    "    return\n",
    "\n",
    "visualize(trained_autoencoder)\n",
    "            "
   ]
  },
  {
   "cell_type": "markdown",
   "metadata": {},
   "source": [
    "## 2. Generate Features\n",
    "\n",
    "Run the cells below to generate a csv of image features -> rotation label using your trained autoencoder."
   ]
  },
  {
   "cell_type": "code",
   "execution_count": 12,
   "metadata": {},
   "outputs": [],
   "source": [
    "class CIFAR10_RotDataset(torch.utils.data.Dataset): #Helper dataset to generate rotated counterparts\n",
    "    def __init__(self, root=\"./data/\", train=True, transform=None):\n",
    "        super(CIFAR10_RotDataset, self).__init__()\n",
    "        self.dataset = CIFAR10(root, train=train, transform=None)\n",
    "        self.transform = transform\n",
    " \n",
    "    def __len__(self):\n",
    "        return len(self.dataset)\n",
    "\n",
    "    def __getitem__(self, idx): # NOTE: Returns original image, rotated image, label\n",
    "        img, label = self.dataset.__getitem__(idx) #Get original image\n",
    "\n",
    "        # Make rotated counterpart (rotation angled is randomly sampled)\n",
    "        rotation_angle = random.randint(1, 3) * 90\n",
    "        rotated_img = transforms.RandomRotation(rotation_angle)(img)\n",
    "\n",
    "        if self.transform is not None:\n",
    "            img = self.transform(img)\n",
    "            rotated_img = self.transform(rotated_img)\n",
    "\n",
    "        return img, rotated_img, label\n",
    "\n",
    "def generate_csv(model, fname, train=True, is_eval=False):\n",
    "    \"\"\" Returns CSV of CIFAR10 Features -> Rotation/Not-Rotated\"\"\"\n",
    "    # Get data\n",
    "    dataset = CIFAR10_RotDataset(train=train, transform=transforms.ToTensor())\n",
    "\n",
    "    # Eval model\n",
    "    model.to(DEVICE)\n",
    "    model.eval()\n",
    "\n",
    "    # Save data, label\n",
    "    output = []\n",
    "    with torch.no_grad():\n",
    "        for i in tqdm.notebook.trange(len(dataset), desc='Generating Features', unit='Sample'):\n",
    "            img, rotated_img, label = dataset.__getitem__(i)\n",
    "            img, rotated_img = img.to(DEVICE), rotated_img.to(DEVICE)\n",
    "\n",
    "            img_features = model.get_features(img).squeeze().tolist()\n",
    "\n",
    "            if train and not is_eval:\n",
    "                rotated_features = model.get_features(rotated_img).squeeze().tolist()\n",
    "                \n",
    "                # Add {if Rotated} as label\n",
    "                img_features.append(0)\n",
    "                rotated_features.append(1)\n",
    "                \n",
    "                output.append(rotated_features)\n",
    "            \n",
    "            else: #For validation/training-eval, we need CIFAR label because we will do regular CIFAR10 classification!\n",
    "                img_features.append(label)\n",
    "            \n",
    "            output.append(img_features)\n",
    "    \n",
    "    df = pd.DataFrame(output, columns = [f'Feature {i}' for i in range(1,9)] + ['Label'])\n",
    "    df.to_csv(fname, index=False)\n",
    "    \n",
    "    return\n"
   ]
  },
  {
   "cell_type": "code",
   "execution_count": 13,
   "metadata": {},
   "outputs": [
    {
     "data": {
      "application/vnd.jupyter.widget-view+json": {
       "model_id": "999d1fb8878b4ce6ac76b99b7e4d754b",
       "version_major": 2,
       "version_minor": 0
      },
      "text/plain": [
       "Generating Features:   0%|          | 0/50000 [00:00<?, ?Sample/s]"
      ]
     },
     "metadata": {},
     "output_type": "display_data"
    },
    {
     "data": {
      "application/vnd.jupyter.widget-view+json": {
       "model_id": "5429faf58d334425bb2615873ee1e90e",
       "version_major": 2,
       "version_minor": 0
      },
      "text/plain": [
       "Generating Features:   0%|          | 0/10000 [00:00<?, ?Sample/s]"
      ]
     },
     "metadata": {},
     "output_type": "display_data"
    },
    {
     "data": {
      "application/vnd.jupyter.widget-view+json": {
       "model_id": "dc490ec251c14acba6e0376ca83ad721",
       "version_major": 2,
       "version_minor": 0
      },
      "text/plain": [
       "Generating Features:   0%|          | 0/50000 [00:00<?, ?Sample/s]"
      ]
     },
     "metadata": {},
     "output_type": "display_data"
    }
   ],
   "source": [
    "generate_csv(trained_autoencoder, \"cifar10_train_data.csv\", train=True)\n",
    "generate_csv(trained_autoencoder, \"cifar10_eval_val_data.csv\", train=False)\n",
    "generate_csv(trained_autoencoder, \"cifar10_eval_train.csv\", train=True, is_eval=True)"
   ]
  },
  {
   "cell_type": "code",
   "execution_count": null,
   "metadata": {},
   "outputs": [],
   "source": []
  }
 ],
 "metadata": {
  "interpreter": {
   "hash": "fd69f43f58546b570e94fd7eba7b65e6bcc7a5bbc4eab0408017d18902915d69"
  },
  "kernelspec": {
   "display_name": "Python 3.7.12 64-bit",
   "language": "python",
   "name": "python3"
  },
  "language_info": {
   "codemirror_mode": {
    "name": "ipython",
    "version": 3
   },
   "file_extension": ".py",
   "mimetype": "text/x-python",
   "name": "python",
   "nbconvert_exporter": "python",
   "pygments_lexer": "ipython3",
   "version": "3.7.13"
  },
  "orig_nbformat": 4
 },
 "nbformat": 4,
 "nbformat_minor": 2
}
