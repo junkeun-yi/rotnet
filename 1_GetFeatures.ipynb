{
 "cells": [
  {
   "cell_type": "markdown",
   "metadata": {},
   "source": [
    "# Generate CIFAR10 Features\n",
    "In this notebook, we will train an autoencoder to generate features for our MEC RotNet training.\n",
    "\n",
    "This notebook will:\n",
    "\n",
    "1. Train an autoencoder on CIFAR10\n",
    "2. Generate a CSV of CIFAR10 Training Features (from autoencoder in (1)) -> {0/1 Not Rotated/Rotated Label}"
   ]
  },
  {
   "cell_type": "code",
   "execution_count": 46,
   "metadata": {},
   "outputs": [],
   "source": [
    "# Imports\n",
    "import torch\n",
    "import torch.nn as nn\n",
    "from torch.utils.data import DataLoader\n",
    "import torchvision\n",
    "from torchvision.datasets import CIFAR10\n",
    "from torchvision import transforms\n",
    "import tqdm.notebook\n",
    "import numpy as np\n",
    "import random\n",
    "import pandas as pd\n",
    "\n",
    "import matplotlib.pyplot as plt\n",
    "\n",
    "# Set device\n",
    "DEVICE = torch.device('cuda')\n",
    "\n",
    "# Set seed\n",
    "torch.manual_seed(0)\n",
    "np.random.seed(0)\n",
    "random.seed(0)"
   ]
  },
  {
   "cell_type": "markdown",
   "metadata": {},
   "source": [
    "## 1. Train an Autoencoder for CIFAR10\n",
    "\n",
    "We will build a Convolutional AutoEncoder (CAE) for CIFAR10. This section of the notebook includes 3 parts:\n",
    "1. Define the Architecture\n",
    "2. Train the Model on CIFAR10\n",
    "3. Visualize model predictions "
   ]
  },
  {
   "cell_type": "markdown",
   "metadata": {},
   "source": [
    "### 1.1. Create the model\n",
    "\n",
    "We will adapt a popular CAE architecture seen in many blogposts and tutorials, including [TensorFlow's AutoEncoder tutorial](https://www.tensorflow.org/tutorials/generative/autoencoder#define_a_convolutional_autoencoder)."
   ]
  },
  {
   "cell_type": "code",
   "execution_count": 2,
   "metadata": {},
   "outputs": [],
   "source": [
    "# Architecture from https://www.tensorflow.org/tutorials/generative/autoencoder#define_a_convolutional_autoencoder\n",
    "class ConvAutoEncoder(nn.Module):\n",
    "    def __init__(self):\n",
    "        super(ConvAutoEncoder, self).__init__()\n",
    "\n",
    "        self.encoder = nn.Sequential(\n",
    "                                        nn.Conv2d(3, 16, 3), #Input 3 channel, 16 channel, 3x3 kernel\n",
    "                                        nn.ReLU(),\n",
    "                                        nn.Conv2d(16, 8, 3), #Input 3 channel, Output 8 channel, 3x3 kernel\n",
    "                                        nn.ReLU(),\n",
    "                                    )\n",
    "        self.decoder = nn.Sequential(\n",
    "                                        nn.ConvTranspose2d(8, 8, 3), #Input 8 channel, Output 8 channel, 3x3 kernel\n",
    "                                        nn.ReLU(),\n",
    "                                        nn.ConvTranspose2d(8, 16, 3), # Input 8 channel, Output 16 channel\n",
    "                                        nn.ReLU(),\n",
    "                                        nn.Conv2d(16, 3, 3, padding=1),\n",
    "                                        nn.ReLU(),\n",
    "                                     )\n",
    "    \n",
    "    def get_features(self, x):\n",
    "        encoding, _ = self.forward(x)\n",
    "        encoding = encoding.detach() #Detach (just in case!)\n",
    "        encoding = nn.AvgPool2d(28)(encoding) # Global pool -> (B, 8, 1, 1)\n",
    "        return torch.flatten(encoding, start_dim=1) #(B, 8)\n",
    "        \n",
    "    def forward(self, x):\n",
    "        # x is (B, 1, 28, 28)\n",
    "        encoding = self.encoder(x) # (B, 8, 28, 28)\n",
    "        decoding = self.decoder(encoding) # (B, 3, 32, 32)\n",
    "        assert x.shape == decoding.shape, f\"Input {x.shape} but decoding is {decoding.shape}\"\n",
    "        return encoding, decoding"
   ]
  },
  {
   "cell_type": "markdown",
   "metadata": {},
   "source": [
    "### 1.2 Train the Model\n",
    "\n",
    "Next, we will train the model for 100 epochs. The model will learn to reconstruct CIFAR10 training images. \n",
    "\n",
    "Note: The cell below will download CIFAR10 into \"./data/\" directory automatically."
   ]
  },
  {
   "cell_type": "code",
   "execution_count": 3,
   "metadata": {},
   "outputs": [],
   "source": [
    "# Define Training, Eval\n",
    "def get_data(path): #Helper function to download data just in case\n",
    "    _ = CIFAR10(path, train=True) #Download train data\n",
    "    _ = CIFAR10(path, train=False) #Download val data\n",
    "\n",
    "def train(model, num_epochs):\n",
    "    \"\"\" Returns trained model, list of training losses (per epoch), list of validation losses (per epoch)\"\"\"\n",
    "    \n",
    "    # Download data if needed\n",
    "    get_data(\"./data/\")\n",
    "\n",
    "    # Get CIFAR dataset\n",
    "    train_dataset = CIFAR10(\"./data/\", train=True, transform= transforms.ToTensor(), download=False) #Will download if not in ./data/\n",
    "    dataloader = DataLoader(train_dataset, batch_size=64, shuffle=True, pin_memory=True, num_workers=4)\n",
    "    \n",
    "    model.to(DEVICE)\n",
    "\n",
    "    # Optimizations\n",
    "    optimizer = torch.optim.Adam(model.parameters()) #Using default lr = 0.001\n",
    "    loss_func = nn.MSELoss()\n",
    "\n",
    "    # Train\n",
    "    val_losses = []\n",
    "    training_losses = []\n",
    "    best_val_loss = None\n",
    "    for epoch in tqdm.notebook.trange(num_epochs, desc='training', unit='epoch'):\n",
    "        model.train() #Switch to train, b/c eval turns train off\n",
    "        epoch_loss = 0.\n",
    "        with tqdm.notebook.tqdm(dataloader, desc=f'Epoch {epoch}', unit='instance', total=len(dataloader)) as iterator:\n",
    "            for (i, (img, _)) in enumerate(iterator, start=1):\n",
    "                img = img.to(DEVICE)\n",
    "\n",
    "                _, pred_img = model(img)\n",
    "\n",
    "                loss = loss_func(img, pred_img)\n",
    "                epoch_loss += loss.item()\n",
    "\n",
    "                # Update\n",
    "                optimizer.zero_grad()\n",
    "                loss.backward()\n",
    "                optimizer.step()\n",
    "\n",
    "                # Log\n",
    "                iterator.set_postfix(mean_loss = epoch_loss / i, best_val_loss = best_val_loss)\n",
    "            # Evaluate\n",
    "            if best_val_loss is None:\n",
    "                best_val_loss = float('inf')\n",
    "            val_loss = evaluate(model)\n",
    "            best_val_loss = min(val_loss, best_val_loss)\n",
    "\n",
    "            # Save losses\n",
    "            training_losses.append(epoch_loss / i)\n",
    "            val_losses.append(val_loss)\n",
    "    \n",
    "    torch.save(model.state_dict, \"cifar10_cae.pth.tar\")\n",
    "    print(\"Model Saved!\")\n",
    "            \n",
    "    return model, training_losses, val_losses\n",
    "\n",
    "def evaluate(model):\n",
    "    \"\"\" Returns reconstruction error (MSE) on validation data\"\"\"\n",
    "\n",
    "    # Get CIFAR10 val data\n",
    "    val_data = CIFAR10(\"./data/\", train=False, transform=transforms.ToTensor(), download=False)\n",
    "    val_dataloader = DataLoader(val_data, batch_size=64, shuffle=False, pin_memory=True, num_workers=4)\n",
    "\n",
    "    # Do not train!\n",
    "    model.eval()\n",
    "    with torch.no_grad():\n",
    "        total_loss = 0.\n",
    "        for (img, _) in val_dataloader:\n",
    "            img = img.to(DEVICE)\n",
    "\n",
    "            _, pred_img = model(img)\n",
    "\n",
    "            total_loss += nn.MSELoss(reduction='sum')(img, pred_img).item()\n",
    "    \n",
    "    return total_loss / len(val_data)\n",
    "\n"
   ]
  },
  {
   "cell_type": "code",
   "execution_count": 4,
   "metadata": {},
   "outputs": [
    {
     "data": {
      "application/vnd.jupyter.widget-view+json": {
       "model_id": "7bb2f6fe4bd041bf8edcaf16590e9ea4",
       "version_major": 2,
       "version_minor": 0
      },
      "text/plain": [
       "training:   0%|          | 0/100 [00:00<?, ?epoch/s]"
      ]
     },
     "metadata": {},
     "output_type": "display_data"
    },
    {
     "data": {
      "application/vnd.jupyter.widget-view+json": {
       "model_id": "340ce10ed2764d0a89c79f1f63651709",
       "version_major": 2,
       "version_minor": 0
      },
      "text/plain": [
       "Epoch 0:   0%|          | 0/782 [00:00<?, ?instance/s]"
      ]
     },
     "metadata": {},
     "output_type": "display_data"
    },
    {
     "data": {
      "application/vnd.jupyter.widget-view+json": {
       "model_id": "31a7b1375389420ebb58821eaee3da1f",
       "version_major": 2,
       "version_minor": 0
      },
      "text/plain": [
       "Epoch 1:   0%|          | 0/782 [00:00<?, ?instance/s]"
      ]
     },
     "metadata": {},
     "output_type": "display_data"
    },
    {
     "data": {
      "application/vnd.jupyter.widget-view+json": {
       "model_id": "e35784ca0742403086c94bced47801d1",
       "version_major": 2,
       "version_minor": 0
      },
      "text/plain": [
       "Epoch 2:   0%|          | 0/782 [00:00<?, ?instance/s]"
      ]
     },
     "metadata": {},
     "output_type": "display_data"
    },
    {
     "data": {
      "application/vnd.jupyter.widget-view+json": {
       "model_id": "5ed2aec95f214082b8dbf5b5df92f314",
       "version_major": 2,
       "version_minor": 0
      },
      "text/plain": [
       "Epoch 3:   0%|          | 0/782 [00:00<?, ?instance/s]"
      ]
     },
     "metadata": {},
     "output_type": "display_data"
    },
    {
     "data": {
      "application/vnd.jupyter.widget-view+json": {
       "model_id": "40bb90d8945e487582ca676bea26fb24",
       "version_major": 2,
       "version_minor": 0
      },
      "text/plain": [
       "Epoch 4:   0%|          | 0/782 [00:00<?, ?instance/s]"
      ]
     },
     "metadata": {},
     "output_type": "display_data"
    },
    {
     "data": {
      "application/vnd.jupyter.widget-view+json": {
       "model_id": "18781852c32646ff86ac1ebdc30dfbd6",
       "version_major": 2,
       "version_minor": 0
      },
      "text/plain": [
       "Epoch 5:   0%|          | 0/782 [00:00<?, ?instance/s]"
      ]
     },
     "metadata": {},
     "output_type": "display_data"
    },
    {
     "data": {
      "application/vnd.jupyter.widget-view+json": {
       "model_id": "37eb43bb5f29488eba55903207534673",
       "version_major": 2,
       "version_minor": 0
      },
      "text/plain": [
       "Epoch 6:   0%|          | 0/782 [00:00<?, ?instance/s]"
      ]
     },
     "metadata": {},
     "output_type": "display_data"
    },
    {
     "data": {
      "application/vnd.jupyter.widget-view+json": {
       "model_id": "ac17a1d97ad443ed928597fae8b01762",
       "version_major": 2,
       "version_minor": 0
      },
      "text/plain": [
       "Epoch 7:   0%|          | 0/782 [00:00<?, ?instance/s]"
      ]
     },
     "metadata": {},
     "output_type": "display_data"
    },
    {
     "data": {
      "application/vnd.jupyter.widget-view+json": {
       "model_id": "f6d37284781f479fbf6f3e60515f92d4",
       "version_major": 2,
       "version_minor": 0
      },
      "text/plain": [
       "Epoch 8:   0%|          | 0/782 [00:00<?, ?instance/s]"
      ]
     },
     "metadata": {},
     "output_type": "display_data"
    },
    {
     "data": {
      "application/vnd.jupyter.widget-view+json": {
       "model_id": "fd0517f055514d8b9ca1d4e00fbf87ac",
       "version_major": 2,
       "version_minor": 0
      },
      "text/plain": [
       "Epoch 9:   0%|          | 0/782 [00:00<?, ?instance/s]"
      ]
     },
     "metadata": {},
     "output_type": "display_data"
    },
    {
     "data": {
      "application/vnd.jupyter.widget-view+json": {
       "model_id": "08d04e3f933f4ab5bfaad44d6f47d065",
       "version_major": 2,
       "version_minor": 0
      },
      "text/plain": [
       "Epoch 10:   0%|          | 0/782 [00:00<?, ?instance/s]"
      ]
     },
     "metadata": {},
     "output_type": "display_data"
    },
    {
     "data": {
      "application/vnd.jupyter.widget-view+json": {
       "model_id": "e0feea98de0944f0b33d8757f86bd87a",
       "version_major": 2,
       "version_minor": 0
      },
      "text/plain": [
       "Epoch 11:   0%|          | 0/782 [00:00<?, ?instance/s]"
      ]
     },
     "metadata": {},
     "output_type": "display_data"
    },
    {
     "data": {
      "application/vnd.jupyter.widget-view+json": {
       "model_id": "5c36089265fa4b26ac536b4ca9747bdb",
       "version_major": 2,
       "version_minor": 0
      },
      "text/plain": [
       "Epoch 12:   0%|          | 0/782 [00:00<?, ?instance/s]"
      ]
     },
     "metadata": {},
     "output_type": "display_data"
    },
    {
     "data": {
      "application/vnd.jupyter.widget-view+json": {
       "model_id": "de4126eb95244b62a248d85b5732c9e1",
       "version_major": 2,
       "version_minor": 0
      },
      "text/plain": [
       "Epoch 13:   0%|          | 0/782 [00:00<?, ?instance/s]"
      ]
     },
     "metadata": {},
     "output_type": "display_data"
    },
    {
     "data": {
      "application/vnd.jupyter.widget-view+json": {
       "model_id": "2b8565421a65478896a7b8449d85a7d6",
       "version_major": 2,
       "version_minor": 0
      },
      "text/plain": [
       "Epoch 14:   0%|          | 0/782 [00:00<?, ?instance/s]"
      ]
     },
     "metadata": {},
     "output_type": "display_data"
    },
    {
     "data": {
      "application/vnd.jupyter.widget-view+json": {
       "model_id": "209877a32aee4036b0ec8cde60e7191b",
       "version_major": 2,
       "version_minor": 0
      },
      "text/plain": [
       "Epoch 15:   0%|          | 0/782 [00:00<?, ?instance/s]"
      ]
     },
     "metadata": {},
     "output_type": "display_data"
    },
    {
     "data": {
      "application/vnd.jupyter.widget-view+json": {
       "model_id": "3bbbe72ed91b4cc2adeff7f8c496e8b1",
       "version_major": 2,
       "version_minor": 0
      },
      "text/plain": [
       "Epoch 16:   0%|          | 0/782 [00:00<?, ?instance/s]"
      ]
     },
     "metadata": {},
     "output_type": "display_data"
    },
    {
     "data": {
      "application/vnd.jupyter.widget-view+json": {
       "model_id": "0ecc739beff74469a993bebe8fc7c9a7",
       "version_major": 2,
       "version_minor": 0
      },
      "text/plain": [
       "Epoch 17:   0%|          | 0/782 [00:00<?, ?instance/s]"
      ]
     },
     "metadata": {},
     "output_type": "display_data"
    },
    {
     "data": {
      "application/vnd.jupyter.widget-view+json": {
       "model_id": "264f177b3b8c442a9f0310308c4904ab",
       "version_major": 2,
       "version_minor": 0
      },
      "text/plain": [
       "Epoch 18:   0%|          | 0/782 [00:00<?, ?instance/s]"
      ]
     },
     "metadata": {},
     "output_type": "display_data"
    },
    {
     "data": {
      "application/vnd.jupyter.widget-view+json": {
       "model_id": "96e003ca2101444c9cd54914e7406148",
       "version_major": 2,
       "version_minor": 0
      },
      "text/plain": [
       "Epoch 19:   0%|          | 0/782 [00:00<?, ?instance/s]"
      ]
     },
     "metadata": {},
     "output_type": "display_data"
    },
    {
     "data": {
      "application/vnd.jupyter.widget-view+json": {
       "model_id": "8301b40a0a154040a82c21616468d670",
       "version_major": 2,
       "version_minor": 0
      },
      "text/plain": [
       "Epoch 20:   0%|          | 0/782 [00:00<?, ?instance/s]"
      ]
     },
     "metadata": {},
     "output_type": "display_data"
    },
    {
     "data": {
      "application/vnd.jupyter.widget-view+json": {
       "model_id": "7307017ddd7141d390b0ae8c95a9e27f",
       "version_major": 2,
       "version_minor": 0
      },
      "text/plain": [
       "Epoch 21:   0%|          | 0/782 [00:00<?, ?instance/s]"
      ]
     },
     "metadata": {},
     "output_type": "display_data"
    },
    {
     "data": {
      "application/vnd.jupyter.widget-view+json": {
       "model_id": "debd6bf369b24aa78049281d32ac4c85",
       "version_major": 2,
       "version_minor": 0
      },
      "text/plain": [
       "Epoch 22:   0%|          | 0/782 [00:00<?, ?instance/s]"
      ]
     },
     "metadata": {},
     "output_type": "display_data"
    },
    {
     "data": {
      "application/vnd.jupyter.widget-view+json": {
       "model_id": "33e943881dde4fe79dfbc9cd0c8a6018",
       "version_major": 2,
       "version_minor": 0
      },
      "text/plain": [
       "Epoch 23:   0%|          | 0/782 [00:00<?, ?instance/s]"
      ]
     },
     "metadata": {},
     "output_type": "display_data"
    },
    {
     "data": {
      "application/vnd.jupyter.widget-view+json": {
       "model_id": "88f3586395484b5781c4a89ab41568fc",
       "version_major": 2,
       "version_minor": 0
      },
      "text/plain": [
       "Epoch 24:   0%|          | 0/782 [00:00<?, ?instance/s]"
      ]
     },
     "metadata": {},
     "output_type": "display_data"
    },
    {
     "data": {
      "application/vnd.jupyter.widget-view+json": {
       "model_id": "dc2c5003401c43f9badea61313478b68",
       "version_major": 2,
       "version_minor": 0
      },
      "text/plain": [
       "Epoch 25:   0%|          | 0/782 [00:00<?, ?instance/s]"
      ]
     },
     "metadata": {},
     "output_type": "display_data"
    },
    {
     "data": {
      "application/vnd.jupyter.widget-view+json": {
       "model_id": "745971c886704538b3663452eba5f3d8",
       "version_major": 2,
       "version_minor": 0
      },
      "text/plain": [
       "Epoch 26:   0%|          | 0/782 [00:00<?, ?instance/s]"
      ]
     },
     "metadata": {},
     "output_type": "display_data"
    },
    {
     "data": {
      "application/vnd.jupyter.widget-view+json": {
       "model_id": "f6cc61c14ede459e969de2c7a91d12db",
       "version_major": 2,
       "version_minor": 0
      },
      "text/plain": [
       "Epoch 27:   0%|          | 0/782 [00:00<?, ?instance/s]"
      ]
     },
     "metadata": {},
     "output_type": "display_data"
    },
    {
     "data": {
      "application/vnd.jupyter.widget-view+json": {
       "model_id": "c0dfad28d8d240ffaca31400f5f7c402",
       "version_major": 2,
       "version_minor": 0
      },
      "text/plain": [
       "Epoch 28:   0%|          | 0/782 [00:00<?, ?instance/s]"
      ]
     },
     "metadata": {},
     "output_type": "display_data"
    },
    {
     "data": {
      "application/vnd.jupyter.widget-view+json": {
       "model_id": "095e614c641d40208a3225d7cdf6231d",
       "version_major": 2,
       "version_minor": 0
      },
      "text/plain": [
       "Epoch 29:   0%|          | 0/782 [00:00<?, ?instance/s]"
      ]
     },
     "metadata": {},
     "output_type": "display_data"
    },
    {
     "data": {
      "application/vnd.jupyter.widget-view+json": {
       "model_id": "f8dfb2cabf984bc6b28c4cb06c35e211",
       "version_major": 2,
       "version_minor": 0
      },
      "text/plain": [
       "Epoch 30:   0%|          | 0/782 [00:00<?, ?instance/s]"
      ]
     },
     "metadata": {},
     "output_type": "display_data"
    },
    {
     "data": {
      "application/vnd.jupyter.widget-view+json": {
       "model_id": "c09e54a3520f49a6934ea6107a026e2b",
       "version_major": 2,
       "version_minor": 0
      },
      "text/plain": [
       "Epoch 31:   0%|          | 0/782 [00:00<?, ?instance/s]"
      ]
     },
     "metadata": {},
     "output_type": "display_data"
    },
    {
     "data": {
      "application/vnd.jupyter.widget-view+json": {
       "model_id": "f7d62c6d28a54f3da37653092b516a61",
       "version_major": 2,
       "version_minor": 0
      },
      "text/plain": [
       "Epoch 32:   0%|          | 0/782 [00:00<?, ?instance/s]"
      ]
     },
     "metadata": {},
     "output_type": "display_data"
    },
    {
     "data": {
      "application/vnd.jupyter.widget-view+json": {
       "model_id": "9ff64dc1da4449a399bec526888e025f",
       "version_major": 2,
       "version_minor": 0
      },
      "text/plain": [
       "Epoch 33:   0%|          | 0/782 [00:00<?, ?instance/s]"
      ]
     },
     "metadata": {},
     "output_type": "display_data"
    },
    {
     "data": {
      "application/vnd.jupyter.widget-view+json": {
       "model_id": "6b32ec2d0c704725b0fd9f54d13ea1fc",
       "version_major": 2,
       "version_minor": 0
      },
      "text/plain": [
       "Epoch 34:   0%|          | 0/782 [00:00<?, ?instance/s]"
      ]
     },
     "metadata": {},
     "output_type": "display_data"
    },
    {
     "data": {
      "application/vnd.jupyter.widget-view+json": {
       "model_id": "a03d0008fb8845a98a32d4ac30eb76fe",
       "version_major": 2,
       "version_minor": 0
      },
      "text/plain": [
       "Epoch 35:   0%|          | 0/782 [00:00<?, ?instance/s]"
      ]
     },
     "metadata": {},
     "output_type": "display_data"
    },
    {
     "data": {
      "application/vnd.jupyter.widget-view+json": {
       "model_id": "c726231301824a039126c3f7a5312629",
       "version_major": 2,
       "version_minor": 0
      },
      "text/plain": [
       "Epoch 36:   0%|          | 0/782 [00:00<?, ?instance/s]"
      ]
     },
     "metadata": {},
     "output_type": "display_data"
    },
    {
     "data": {
      "application/vnd.jupyter.widget-view+json": {
       "model_id": "ee8b086d8fb040feaade09a5ec26709d",
       "version_major": 2,
       "version_minor": 0
      },
      "text/plain": [
       "Epoch 37:   0%|          | 0/782 [00:00<?, ?instance/s]"
      ]
     },
     "metadata": {},
     "output_type": "display_data"
    },
    {
     "data": {
      "application/vnd.jupyter.widget-view+json": {
       "model_id": "f16ea7e19ba24f12b4172abfc44615cb",
       "version_major": 2,
       "version_minor": 0
      },
      "text/plain": [
       "Epoch 38:   0%|          | 0/782 [00:00<?, ?instance/s]"
      ]
     },
     "metadata": {},
     "output_type": "display_data"
    },
    {
     "data": {
      "application/vnd.jupyter.widget-view+json": {
       "model_id": "c13c078e0177434895e17d5ad1d0805a",
       "version_major": 2,
       "version_minor": 0
      },
      "text/plain": [
       "Epoch 39:   0%|          | 0/782 [00:00<?, ?instance/s]"
      ]
     },
     "metadata": {},
     "output_type": "display_data"
    },
    {
     "data": {
      "application/vnd.jupyter.widget-view+json": {
       "model_id": "c5e53abfbeeb4cbeac9756fb1c03f5de",
       "version_major": 2,
       "version_minor": 0
      },
      "text/plain": [
       "Epoch 40:   0%|          | 0/782 [00:00<?, ?instance/s]"
      ]
     },
     "metadata": {},
     "output_type": "display_data"
    },
    {
     "data": {
      "application/vnd.jupyter.widget-view+json": {
       "model_id": "8e32266d1e8342ad8d870b4e5361dcc3",
       "version_major": 2,
       "version_minor": 0
      },
      "text/plain": [
       "Epoch 41:   0%|          | 0/782 [00:00<?, ?instance/s]"
      ]
     },
     "metadata": {},
     "output_type": "display_data"
    },
    {
     "data": {
      "application/vnd.jupyter.widget-view+json": {
       "model_id": "bd9d37686d6c44569df4cbb2a89e721d",
       "version_major": 2,
       "version_minor": 0
      },
      "text/plain": [
       "Epoch 42:   0%|          | 0/782 [00:00<?, ?instance/s]"
      ]
     },
     "metadata": {},
     "output_type": "display_data"
    },
    {
     "data": {
      "application/vnd.jupyter.widget-view+json": {
       "model_id": "7122be951d6c40ec811107d473e1c104",
       "version_major": 2,
       "version_minor": 0
      },
      "text/plain": [
       "Epoch 43:   0%|          | 0/782 [00:00<?, ?instance/s]"
      ]
     },
     "metadata": {},
     "output_type": "display_data"
    },
    {
     "data": {
      "application/vnd.jupyter.widget-view+json": {
       "model_id": "27666869dcdc473bbf1822aa8fd69e69",
       "version_major": 2,
       "version_minor": 0
      },
      "text/plain": [
       "Epoch 44:   0%|          | 0/782 [00:00<?, ?instance/s]"
      ]
     },
     "metadata": {},
     "output_type": "display_data"
    },
    {
     "data": {
      "application/vnd.jupyter.widget-view+json": {
       "model_id": "1c08fe6863834b19abdc716abcad8163",
       "version_major": 2,
       "version_minor": 0
      },
      "text/plain": [
       "Epoch 45:   0%|          | 0/782 [00:00<?, ?instance/s]"
      ]
     },
     "metadata": {},
     "output_type": "display_data"
    },
    {
     "data": {
      "application/vnd.jupyter.widget-view+json": {
       "model_id": "0aff37c365d8435abfad4053a73107fc",
       "version_major": 2,
       "version_minor": 0
      },
      "text/plain": [
       "Epoch 46:   0%|          | 0/782 [00:00<?, ?instance/s]"
      ]
     },
     "metadata": {},
     "output_type": "display_data"
    },
    {
     "data": {
      "application/vnd.jupyter.widget-view+json": {
       "model_id": "1dd17fb3de144cb1b0fa8e3c0c77b34a",
       "version_major": 2,
       "version_minor": 0
      },
      "text/plain": [
       "Epoch 47:   0%|          | 0/782 [00:00<?, ?instance/s]"
      ]
     },
     "metadata": {},
     "output_type": "display_data"
    },
    {
     "data": {
      "application/vnd.jupyter.widget-view+json": {
       "model_id": "6cc7f2227fdc4dc9b206ee14fa093de3",
       "version_major": 2,
       "version_minor": 0
      },
      "text/plain": [
       "Epoch 48:   0%|          | 0/782 [00:00<?, ?instance/s]"
      ]
     },
     "metadata": {},
     "output_type": "display_data"
    },
    {
     "data": {
      "application/vnd.jupyter.widget-view+json": {
       "model_id": "4659d2f8e2364fa9b672f166e7a7a924",
       "version_major": 2,
       "version_minor": 0
      },
      "text/plain": [
       "Epoch 49:   0%|          | 0/782 [00:00<?, ?instance/s]"
      ]
     },
     "metadata": {},
     "output_type": "display_data"
    },
    {
     "data": {
      "application/vnd.jupyter.widget-view+json": {
       "model_id": "3e5b95a693494419859482faa6dfd915",
       "version_major": 2,
       "version_minor": 0
      },
      "text/plain": [
       "Epoch 50:   0%|          | 0/782 [00:00<?, ?instance/s]"
      ]
     },
     "metadata": {},
     "output_type": "display_data"
    },
    {
     "data": {
      "application/vnd.jupyter.widget-view+json": {
       "model_id": "299ba060d81f45fea29a4baea4393858",
       "version_major": 2,
       "version_minor": 0
      },
      "text/plain": [
       "Epoch 51:   0%|          | 0/782 [00:00<?, ?instance/s]"
      ]
     },
     "metadata": {},
     "output_type": "display_data"
    },
    {
     "data": {
      "application/vnd.jupyter.widget-view+json": {
       "model_id": "fd5f5f7042b14c6288078769ee9cdbf4",
       "version_major": 2,
       "version_minor": 0
      },
      "text/plain": [
       "Epoch 52:   0%|          | 0/782 [00:00<?, ?instance/s]"
      ]
     },
     "metadata": {},
     "output_type": "display_data"
    },
    {
     "data": {
      "application/vnd.jupyter.widget-view+json": {
       "model_id": "b64b9e8f0d164e2a8ef98b92b70e6443",
       "version_major": 2,
       "version_minor": 0
      },
      "text/plain": [
       "Epoch 53:   0%|          | 0/782 [00:00<?, ?instance/s]"
      ]
     },
     "metadata": {},
     "output_type": "display_data"
    },
    {
     "data": {
      "application/vnd.jupyter.widget-view+json": {
       "model_id": "2051f166407948e4bb0e782f7bd7d42c",
       "version_major": 2,
       "version_minor": 0
      },
      "text/plain": [
       "Epoch 54:   0%|          | 0/782 [00:00<?, ?instance/s]"
      ]
     },
     "metadata": {},
     "output_type": "display_data"
    },
    {
     "data": {
      "application/vnd.jupyter.widget-view+json": {
       "model_id": "635b8ac174b64a348ca7d6f02692b48d",
       "version_major": 2,
       "version_minor": 0
      },
      "text/plain": [
       "Epoch 55:   0%|          | 0/782 [00:00<?, ?instance/s]"
      ]
     },
     "metadata": {},
     "output_type": "display_data"
    },
    {
     "data": {
      "application/vnd.jupyter.widget-view+json": {
       "model_id": "f31098c942224f9e923c094b0e9ae0e2",
       "version_major": 2,
       "version_minor": 0
      },
      "text/plain": [
       "Epoch 56:   0%|          | 0/782 [00:00<?, ?instance/s]"
      ]
     },
     "metadata": {},
     "output_type": "display_data"
    },
    {
     "data": {
      "application/vnd.jupyter.widget-view+json": {
       "model_id": "6b52ef1abc6148c98aaa6c121a9511b8",
       "version_major": 2,
       "version_minor": 0
      },
      "text/plain": [
       "Epoch 57:   0%|          | 0/782 [00:00<?, ?instance/s]"
      ]
     },
     "metadata": {},
     "output_type": "display_data"
    },
    {
     "data": {
      "application/vnd.jupyter.widget-view+json": {
       "model_id": "865842c887a04452ba229c38e1d275c2",
       "version_major": 2,
       "version_minor": 0
      },
      "text/plain": [
       "Epoch 58:   0%|          | 0/782 [00:00<?, ?instance/s]"
      ]
     },
     "metadata": {},
     "output_type": "display_data"
    },
    {
     "data": {
      "application/vnd.jupyter.widget-view+json": {
       "model_id": "e578082633c64e6abaf85f21d6cbe32d",
       "version_major": 2,
       "version_minor": 0
      },
      "text/plain": [
       "Epoch 59:   0%|          | 0/782 [00:00<?, ?instance/s]"
      ]
     },
     "metadata": {},
     "output_type": "display_data"
    },
    {
     "data": {
      "application/vnd.jupyter.widget-view+json": {
       "model_id": "3d5ac2cf0a7e4ecea48c732f72cf8e4b",
       "version_major": 2,
       "version_minor": 0
      },
      "text/plain": [
       "Epoch 60:   0%|          | 0/782 [00:00<?, ?instance/s]"
      ]
     },
     "metadata": {},
     "output_type": "display_data"
    },
    {
     "data": {
      "application/vnd.jupyter.widget-view+json": {
       "model_id": "25e1f9fbd8d64c2c92a9536c20d05a66",
       "version_major": 2,
       "version_minor": 0
      },
      "text/plain": [
       "Epoch 61:   0%|          | 0/782 [00:00<?, ?instance/s]"
      ]
     },
     "metadata": {},
     "output_type": "display_data"
    },
    {
     "data": {
      "application/vnd.jupyter.widget-view+json": {
       "model_id": "04f1228acbad420abd92e2cc52672387",
       "version_major": 2,
       "version_minor": 0
      },
      "text/plain": [
       "Epoch 62:   0%|          | 0/782 [00:00<?, ?instance/s]"
      ]
     },
     "metadata": {},
     "output_type": "display_data"
    },
    {
     "data": {
      "application/vnd.jupyter.widget-view+json": {
       "model_id": "b05c9c660d984c14a5166b51fbbfac4b",
       "version_major": 2,
       "version_minor": 0
      },
      "text/plain": [
       "Epoch 63:   0%|          | 0/782 [00:00<?, ?instance/s]"
      ]
     },
     "metadata": {},
     "output_type": "display_data"
    },
    {
     "data": {
      "application/vnd.jupyter.widget-view+json": {
       "model_id": "b5089a9c3a7c4be3ae3f027c6e3684be",
       "version_major": 2,
       "version_minor": 0
      },
      "text/plain": [
       "Epoch 64:   0%|          | 0/782 [00:00<?, ?instance/s]"
      ]
     },
     "metadata": {},
     "output_type": "display_data"
    },
    {
     "data": {
      "application/vnd.jupyter.widget-view+json": {
       "model_id": "6724bf208ee24ae798d7f320a6d1c76b",
       "version_major": 2,
       "version_minor": 0
      },
      "text/plain": [
       "Epoch 65:   0%|          | 0/782 [00:00<?, ?instance/s]"
      ]
     },
     "metadata": {},
     "output_type": "display_data"
    },
    {
     "data": {
      "application/vnd.jupyter.widget-view+json": {
       "model_id": "64843fcc372645169247888573bd5060",
       "version_major": 2,
       "version_minor": 0
      },
      "text/plain": [
       "Epoch 66:   0%|          | 0/782 [00:00<?, ?instance/s]"
      ]
     },
     "metadata": {},
     "output_type": "display_data"
    },
    {
     "data": {
      "application/vnd.jupyter.widget-view+json": {
       "model_id": "6f22df9e7b184a6e87d018633f54c99a",
       "version_major": 2,
       "version_minor": 0
      },
      "text/plain": [
       "Epoch 67:   0%|          | 0/782 [00:00<?, ?instance/s]"
      ]
     },
     "metadata": {},
     "output_type": "display_data"
    },
    {
     "data": {
      "application/vnd.jupyter.widget-view+json": {
       "model_id": "1c79bb32dafa42d68f9dc718aecf2ccc",
       "version_major": 2,
       "version_minor": 0
      },
      "text/plain": [
       "Epoch 68:   0%|          | 0/782 [00:00<?, ?instance/s]"
      ]
     },
     "metadata": {},
     "output_type": "display_data"
    },
    {
     "data": {
      "application/vnd.jupyter.widget-view+json": {
       "model_id": "e6ab9ef4c30a422da3ca65efe9dd2169",
       "version_major": 2,
       "version_minor": 0
      },
      "text/plain": [
       "Epoch 69:   0%|          | 0/782 [00:00<?, ?instance/s]"
      ]
     },
     "metadata": {},
     "output_type": "display_data"
    },
    {
     "data": {
      "application/vnd.jupyter.widget-view+json": {
       "model_id": "9f154ca7054246878940cf36951cb1d8",
       "version_major": 2,
       "version_minor": 0
      },
      "text/plain": [
       "Epoch 70:   0%|          | 0/782 [00:00<?, ?instance/s]"
      ]
     },
     "metadata": {},
     "output_type": "display_data"
    },
    {
     "data": {
      "application/vnd.jupyter.widget-view+json": {
       "model_id": "9ba7d245cdc74ae5be1b33f73fb824ac",
       "version_major": 2,
       "version_minor": 0
      },
      "text/plain": [
       "Epoch 71:   0%|          | 0/782 [00:00<?, ?instance/s]"
      ]
     },
     "metadata": {},
     "output_type": "display_data"
    },
    {
     "data": {
      "application/vnd.jupyter.widget-view+json": {
       "model_id": "64e43180bacf4d9aa52f42211bdb94b3",
       "version_major": 2,
       "version_minor": 0
      },
      "text/plain": [
       "Epoch 72:   0%|          | 0/782 [00:00<?, ?instance/s]"
      ]
     },
     "metadata": {},
     "output_type": "display_data"
    },
    {
     "data": {
      "application/vnd.jupyter.widget-view+json": {
       "model_id": "5627a746023f4485bec8b24e2e563c39",
       "version_major": 2,
       "version_minor": 0
      },
      "text/plain": [
       "Epoch 73:   0%|          | 0/782 [00:00<?, ?instance/s]"
      ]
     },
     "metadata": {},
     "output_type": "display_data"
    },
    {
     "data": {
      "application/vnd.jupyter.widget-view+json": {
       "model_id": "065cdc85ecbf4195b5ed3121ed579391",
       "version_major": 2,
       "version_minor": 0
      },
      "text/plain": [
       "Epoch 74:   0%|          | 0/782 [00:00<?, ?instance/s]"
      ]
     },
     "metadata": {},
     "output_type": "display_data"
    },
    {
     "data": {
      "application/vnd.jupyter.widget-view+json": {
       "model_id": "658694d30a6949f49de647900883d84d",
       "version_major": 2,
       "version_minor": 0
      },
      "text/plain": [
       "Epoch 75:   0%|          | 0/782 [00:00<?, ?instance/s]"
      ]
     },
     "metadata": {},
     "output_type": "display_data"
    },
    {
     "data": {
      "application/vnd.jupyter.widget-view+json": {
       "model_id": "6d312550cb3449e985184971f8d4b47e",
       "version_major": 2,
       "version_minor": 0
      },
      "text/plain": [
       "Epoch 76:   0%|          | 0/782 [00:00<?, ?instance/s]"
      ]
     },
     "metadata": {},
     "output_type": "display_data"
    },
    {
     "data": {
      "application/vnd.jupyter.widget-view+json": {
       "model_id": "1b4f242b9da64f1697a82e77c62c08ab",
       "version_major": 2,
       "version_minor": 0
      },
      "text/plain": [
       "Epoch 77:   0%|          | 0/782 [00:00<?, ?instance/s]"
      ]
     },
     "metadata": {},
     "output_type": "display_data"
    },
    {
     "data": {
      "application/vnd.jupyter.widget-view+json": {
       "model_id": "710e223ba0904241a1b68f50c8efb946",
       "version_major": 2,
       "version_minor": 0
      },
      "text/plain": [
       "Epoch 78:   0%|          | 0/782 [00:00<?, ?instance/s]"
      ]
     },
     "metadata": {},
     "output_type": "display_data"
    },
    {
     "data": {
      "application/vnd.jupyter.widget-view+json": {
       "model_id": "c3d847fbd4de4312946beeaa8546a205",
       "version_major": 2,
       "version_minor": 0
      },
      "text/plain": [
       "Epoch 79:   0%|          | 0/782 [00:00<?, ?instance/s]"
      ]
     },
     "metadata": {},
     "output_type": "display_data"
    },
    {
     "data": {
      "application/vnd.jupyter.widget-view+json": {
       "model_id": "70f685d54f614698ad96c7bb6f5c8238",
       "version_major": 2,
       "version_minor": 0
      },
      "text/plain": [
       "Epoch 80:   0%|          | 0/782 [00:00<?, ?instance/s]"
      ]
     },
     "metadata": {},
     "output_type": "display_data"
    },
    {
     "data": {
      "application/vnd.jupyter.widget-view+json": {
       "model_id": "281584cb85084a75acdc069d5a3793f4",
       "version_major": 2,
       "version_minor": 0
      },
      "text/plain": [
       "Epoch 81:   0%|          | 0/782 [00:00<?, ?instance/s]"
      ]
     },
     "metadata": {},
     "output_type": "display_data"
    },
    {
     "data": {
      "application/vnd.jupyter.widget-view+json": {
       "model_id": "4e6d505aa29242a98979fc5b2fa547bb",
       "version_major": 2,
       "version_minor": 0
      },
      "text/plain": [
       "Epoch 82:   0%|          | 0/782 [00:00<?, ?instance/s]"
      ]
     },
     "metadata": {},
     "output_type": "display_data"
    },
    {
     "data": {
      "application/vnd.jupyter.widget-view+json": {
       "model_id": "2a01fcfbc0a443bd8d861740de5edb55",
       "version_major": 2,
       "version_minor": 0
      },
      "text/plain": [
       "Epoch 83:   0%|          | 0/782 [00:00<?, ?instance/s]"
      ]
     },
     "metadata": {},
     "output_type": "display_data"
    },
    {
     "data": {
      "application/vnd.jupyter.widget-view+json": {
       "model_id": "7df890dde91948ddb91c6552536a4275",
       "version_major": 2,
       "version_minor": 0
      },
      "text/plain": [
       "Epoch 84:   0%|          | 0/782 [00:00<?, ?instance/s]"
      ]
     },
     "metadata": {},
     "output_type": "display_data"
    },
    {
     "data": {
      "application/vnd.jupyter.widget-view+json": {
       "model_id": "2cf39ef1be0440208fe6c9173dd5b756",
       "version_major": 2,
       "version_minor": 0
      },
      "text/plain": [
       "Epoch 85:   0%|          | 0/782 [00:00<?, ?instance/s]"
      ]
     },
     "metadata": {},
     "output_type": "display_data"
    },
    {
     "data": {
      "application/vnd.jupyter.widget-view+json": {
       "model_id": "bec693c1dead45498e99864ad2f42b0b",
       "version_major": 2,
       "version_minor": 0
      },
      "text/plain": [
       "Epoch 86:   0%|          | 0/782 [00:00<?, ?instance/s]"
      ]
     },
     "metadata": {},
     "output_type": "display_data"
    },
    {
     "data": {
      "application/vnd.jupyter.widget-view+json": {
       "model_id": "2f7ea0cee4654baeb7a80e450148bf4f",
       "version_major": 2,
       "version_minor": 0
      },
      "text/plain": [
       "Epoch 87:   0%|          | 0/782 [00:00<?, ?instance/s]"
      ]
     },
     "metadata": {},
     "output_type": "display_data"
    },
    {
     "data": {
      "application/vnd.jupyter.widget-view+json": {
       "model_id": "cc9136c3a64b4652b844861d5cb64f14",
       "version_major": 2,
       "version_minor": 0
      },
      "text/plain": [
       "Epoch 88:   0%|          | 0/782 [00:00<?, ?instance/s]"
      ]
     },
     "metadata": {},
     "output_type": "display_data"
    },
    {
     "data": {
      "application/vnd.jupyter.widget-view+json": {
       "model_id": "71890ba131c44bcc8781308d839be03c",
       "version_major": 2,
       "version_minor": 0
      },
      "text/plain": [
       "Epoch 89:   0%|          | 0/782 [00:00<?, ?instance/s]"
      ]
     },
     "metadata": {},
     "output_type": "display_data"
    },
    {
     "data": {
      "application/vnd.jupyter.widget-view+json": {
       "model_id": "b51c370d3e154bb19383b072fefb8be6",
       "version_major": 2,
       "version_minor": 0
      },
      "text/plain": [
       "Epoch 90:   0%|          | 0/782 [00:00<?, ?instance/s]"
      ]
     },
     "metadata": {},
     "output_type": "display_data"
    },
    {
     "data": {
      "application/vnd.jupyter.widget-view+json": {
       "model_id": "602c7156d7cc4ef9b56488c31e4cae9e",
       "version_major": 2,
       "version_minor": 0
      },
      "text/plain": [
       "Epoch 91:   0%|          | 0/782 [00:00<?, ?instance/s]"
      ]
     },
     "metadata": {},
     "output_type": "display_data"
    },
    {
     "data": {
      "application/vnd.jupyter.widget-view+json": {
       "model_id": "7dd55deb8ce546ea9bd290e38ec71980",
       "version_major": 2,
       "version_minor": 0
      },
      "text/plain": [
       "Epoch 92:   0%|          | 0/782 [00:00<?, ?instance/s]"
      ]
     },
     "metadata": {},
     "output_type": "display_data"
    },
    {
     "data": {
      "application/vnd.jupyter.widget-view+json": {
       "model_id": "68541f42596043caa9992f4c2e0cac01",
       "version_major": 2,
       "version_minor": 0
      },
      "text/plain": [
       "Epoch 93:   0%|          | 0/782 [00:00<?, ?instance/s]"
      ]
     },
     "metadata": {},
     "output_type": "display_data"
    },
    {
     "data": {
      "application/vnd.jupyter.widget-view+json": {
       "model_id": "4b530d6a587742349b1a0c6f90ffc248",
       "version_major": 2,
       "version_minor": 0
      },
      "text/plain": [
       "Epoch 94:   0%|          | 0/782 [00:00<?, ?instance/s]"
      ]
     },
     "metadata": {},
     "output_type": "display_data"
    },
    {
     "data": {
      "application/vnd.jupyter.widget-view+json": {
       "model_id": "c43938ceb5f54f0886efc12028776155",
       "version_major": 2,
       "version_minor": 0
      },
      "text/plain": [
       "Epoch 95:   0%|          | 0/782 [00:00<?, ?instance/s]"
      ]
     },
     "metadata": {},
     "output_type": "display_data"
    },
    {
     "data": {
      "application/vnd.jupyter.widget-view+json": {
       "model_id": "2f7390cfc9944075adfae783122f2d28",
       "version_major": 2,
       "version_minor": 0
      },
      "text/plain": [
       "Epoch 96:   0%|          | 0/782 [00:00<?, ?instance/s]"
      ]
     },
     "metadata": {},
     "output_type": "display_data"
    },
    {
     "data": {
      "application/vnd.jupyter.widget-view+json": {
       "model_id": "2f0d955e54d946a582debc384937227b",
       "version_major": 2,
       "version_minor": 0
      },
      "text/plain": [
       "Epoch 97:   0%|          | 0/782 [00:00<?, ?instance/s]"
      ]
     },
     "metadata": {},
     "output_type": "display_data"
    },
    {
     "data": {
      "application/vnd.jupyter.widget-view+json": {
       "model_id": "8108fe60521145ee8340e11b595f3c0b",
       "version_major": 2,
       "version_minor": 0
      },
      "text/plain": [
       "Epoch 98:   0%|          | 0/782 [00:00<?, ?instance/s]"
      ]
     },
     "metadata": {},
     "output_type": "display_data"
    },
    {
     "data": {
      "application/vnd.jupyter.widget-view+json": {
       "model_id": "7dac8b2106534030af96ce621044f32b",
       "version_major": 2,
       "version_minor": 0
      },
      "text/plain": [
       "Epoch 99:   0%|          | 0/782 [00:00<?, ?instance/s]"
      ]
     },
     "metadata": {},
     "output_type": "display_data"
    },
    {
     "name": "stdout",
     "output_type": "stream",
     "text": [
      "Saving model!\n"
     ]
    }
   ],
   "source": [
    "# Create model and train\n",
    "autoencoder = ConvAutoEncoder()\n",
    "trained_autoencoder, train_losses, val_losses = train(autoencoder, 100)"
   ]
  },
  {
   "cell_type": "markdown",
   "metadata": {},
   "source": [
    "### 1.3 Visualize Predictions (Optional)\n",
    "\n",
    "Finally, we will visualize some of our model's predictions below!"
   ]
  },
  {
   "cell_type": "code",
   "execution_count": 86,
   "metadata": {},
   "outputs": [
    {
     "name": "stderr",
     "output_type": "stream",
     "text": [
      "Clipping input data to the valid range for imshow with RGB data ([0..1] for floats or [0..255] for integers).\n"
     ]
    },
    {
     "data": {
      "text/plain": [
       "<Figure size 432x288 with 0 Axes>"
      ]
     },
     "metadata": {},
     "output_type": "display_data"
    },
    {
     "data": {
      "image/png": "[encoded data removed]",
      "text/plain": [
       "<Figure size 432x288 with 2 Axes>"
      ]
     },
     "metadata": {
      "needs_background": "light"
     },
     "output_type": "display_data"
    }
   ],
   "source": [
    "def visualize(model): #Visualize predictions on validation set\n",
    "\n",
    "    # Get data\n",
    "    dataset = CIFAR10(\"./data/\", train=False, transform=transforms.ToTensor())\n",
    "    img_indices = random.sample(range(len(dataset)), 16) #Randomly sample validation images to visualize\n",
    "    dataset = torch.utils.data.Subset(dataset, img_indices)\n",
    "    dataloader = DataLoader(dataset, shuffle=False, batch_size=len(dataset), pin_memory=True)\n",
    "\n",
    "    plt.figure()\n",
    "    f, axes = plt.subplots(2,1) \n",
    "\n",
    "    model.eval()\n",
    "    with torch.no_grad():\n",
    "        for (img, _) in dataloader:\n",
    "            img = img.to(DEVICE)\n",
    "\n",
    "            _, prediction = model(img)\n",
    "\n",
    "            axes[0].axis('off')\n",
    "            axes[1].axis('off')\n",
    "\n",
    "            axes[0].set_title(\"Prediction\")\n",
    "            axes[1].set_title(\"Original Image\")\n",
    "\n",
    "            axes[0].imshow(torchvision.utils.make_grid(prediction).permute(1,2,0).cpu().numpy())\n",
    "            axes[1].imshow(torchvision.utils.make_grid(img).permute(1,2,0).cpu().numpy())\n",
    "    return\n",
    "\n",
    "visualize(trained_autoencoder)\n",
    "            "
   ]
  },
  {
   "cell_type": "markdown",
   "metadata": {},
   "source": [
    "## 2. Generate Features\n",
    "\n",
    "Run the 2 cells below to generate a csv of image features -> rotation label using your trained autoencoder."
   ]
  },
  {
   "cell_type": "code",
   "execution_count": 84,
   "metadata": {},
   "outputs": [],
   "source": [
    "class CIFAR10_RotDataset(torch.utils.data.Dataset): #Helper dataset to generate rotated counterparts\n",
    "    def __init__(self, root=\"./data/\", train=True, transform=None):\n",
    "        super(CIFAR10_RotDataset, self).__init__()\n",
    "        self.dataset = CIFAR10(root, train=train, transform=None)\n",
    "        self.transform = transform\n",
    " \n",
    "    def __len__(self):\n",
    "        return len(self.dataset)\n",
    "\n",
    "    def __getitem__(self, idx): # NOTE: Returns 2 images (original, rotated)\n",
    "        img, _ = self.dataset.__getitem__(idx) #Get original image\n",
    "\n",
    "        # Make rotated counterpart (rotation angled is randomly sampled)\n",
    "        rotation_angle = random.randint(1, 3) * 90\n",
    "        rotated_img = transforms.RandomRotation(rotation_angle)(img)\n",
    "\n",
    "        if self.transform is not None:\n",
    "            img = self.transform(img)\n",
    "            rotated_img = self.transform(rotated_img)\n",
    "\n",
    "        return img, rotated_img\n",
    "\n",
    "def generate_csv(model, fname, train=True):\n",
    "    \"\"\" Returns CSV of CIFAR10 Features -> Rotation/Not-Rotated\"\"\"\n",
    "    # Get data\n",
    "    dataset = CIFAR10_RotDataset(train=train, transform=transforms.ToTensor())\n",
    "\n",
    "    # Eval model\n",
    "    model.to(DEVICE)\n",
    "    model.eval()\n",
    "\n",
    "    # Save data, label\n",
    "    output = []\n",
    "    with torch.no_grad():\n",
    "        for i in tqdm.notebook.trange(len(dataset), desc='Generating Features', unit='Sample'):\n",
    "            img, rotated_img = dataset.__getitem__(i)\n",
    "            img, rotated_img = img.to(DEVICE), rotated_img.to(DEVICE)\n",
    "\n",
    "            img_features = model.get_features(img).squeeze().tolist()\n",
    "            rotated_features = model.get_features(rotated_img).squeeze().tolist()\n",
    "\n",
    "            # Add label as last entry\n",
    "            img_features.append(0)\n",
    "            rotated_features.append(1)\n",
    "\n",
    "            output.append(img_features)\n",
    "            output.append(rotated_features)\n",
    "    \n",
    "    df = pd.DataFrame(output, columns = [f'Feature {i}' for i in range(1,9)] + ['Label'])\n",
    "    df.to_csv(fname, index=False)\n",
    "    \n",
    "    return\n"
   ]
  },
  {
   "cell_type": "code",
   "execution_count": 85,
   "metadata": {},
   "outputs": [
    {
     "data": {
      "application/vnd.jupyter.widget-view+json": {
       "model_id": "8269ac04a4d54399861556382d957c6a",
       "version_major": 2,
       "version_minor": 0
      },
      "text/plain": [
       "Generating Features:   0%|          | 0/50000 [00:00<?, ?Sample/s]"
      ]
     },
     "metadata": {},
     "output_type": "display_data"
    },
    {
     "data": {
      "application/vnd.jupyter.widget-view+json": {
       "model_id": "171c77027a5d4c3aa8745ab28b3819e6",
       "version_major": 2,
       "version_minor": 0
      },
      "text/plain": [
       "Generating Features:   0%|          | 0/10000 [00:00<?, ?Sample/s]"
      ]
     },
     "metadata": {},
     "output_type": "display_data"
    }
   ],
   "source": [
    "generate_csv(trained_autoencoder, \"cifar10_train_data.csv\", train=True)\n",
    "generate_csv(trained_autoencoder, \"cifar10_eval_data.csv\", train=False)"
   ]
  },
  {
   "cell_type": "code",
   "execution_count": null,
   "metadata": {},
   "outputs": [],
   "source": []
  }
 ],
 "metadata": {
  "interpreter": {
   "hash": "fd69f43f58546b570e94fd7eba7b65e6bcc7a5bbc4eab0408017d18902915d69"
  },
  "kernelspec": {
   "display_name": "Python 3.7.12 64-bit",
   "language": "python",
   "name": "python3"
  },
  "language_info": {
   "codemirror_mode": {
    "name": "ipython",
    "version": 3
   },
   "file_extension": ".py",
   "mimetype": "text/x-python",
   "name": "python",
   "nbconvert_exporter": "python",
   "pygments_lexer": "ipython3",
   "version": "3.7.13"
  },
  "orig_nbformat": 4
 },
 "nbformat": 4,
 "nbformat_minor": 2
}
