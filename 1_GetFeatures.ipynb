{
 "cells": [
  {
   "cell_type": "markdown",
   "metadata": {},
   "source": [
    "# Generate CIFAR10 Features\n",
    "In this notebook, we will train an autoencoder to generate features for our MEC RotNet training.\n",
    "\n",
    "This notebook will:\n",
    "\n",
    "1. Train an autoencoder on CIFAR10\n",
    "2. Generate a CSV of CIFAR10 Training Features (from autoencoder in (1)) -> {0/1 Not Rotated/Rotated Label}"
   ]
  },
  {
   "cell_type": "code",
   "execution_count": 1,
   "metadata": {},
   "outputs": [],
   "source": [
    "# Imports\n",
    "import torch\n",
    "import torch.nn as nn\n",
    "from torch.utils.data import DataLoader\n",
    "import torchvision\n",
    "from torchvision.datasets import CIFAR10\n",
    "from torchvision import transforms\n",
    "import tqdm.notebook\n",
    "import numpy as np\n",
    "import random\n",
    "import pandas as pd\n",
    "\n",
    "import matplotlib.pyplot as plt\n",
    "\n",
    "# Set device\n",
    "DEVICE = torch.device('cuda')\n",
    "\n",
    "# Set seed\n",
    "torch.manual_seed(0)\n",
    "np.random.seed(0)\n",
    "random.seed(0)"
   ]
  },
  {
   "cell_type": "markdown",
   "metadata": {},
   "source": [
    "## 1. Train an Autoencoder for CIFAR10\n",
    "\n",
    "We will build a Convolutional AutoEncoder (CAE) for CIFAR10. This section of the notebook includes 3 parts:\n",
    "1. Define the Architecture\n",
    "2. Train the Model on CIFAR10\n",
    "3. Visualize model predictions "
   ]
  },
  {
   "cell_type": "markdown",
   "metadata": {},
   "source": [
    "### 1.1. Create the model\n",
    "\n",
    "We will adapt a popular CAE architecture seen in many blogposts and tutorials, including [TensorFlow's AutoEncoder tutorial](https://www.tensorflow.org/tutorials/generative/autoencoder#define_a_convolutional_autoencoder)."
   ]
  },
  {
   "cell_type": "code",
   "execution_count": 2,
   "metadata": {},
   "outputs": [],
   "source": [
    "# Architecture from https://www.tensorflow.org/tutorials/generative/autoencoder#define_a_convolutional_autoencoder\n",
    "class ConvAutoEncoder(nn.Module):\n",
    "    def __init__(self):\n",
    "        super(ConvAutoEncoder, self).__init__()\n",
    "\n",
    "        self.encoder = nn.Sequential(\n",
    "                                        nn.Conv2d(3, 16, 3), #Input 3 channel, 16 channel, 3x3 kernel\n",
    "                                        nn.ReLU(),\n",
    "                                        nn.Conv2d(16, 8, 3), #Input 3 channel, Output 8 channel, 3x3 kernel\n",
    "                                        nn.ReLU(),\n",
    "                                    )\n",
    "        self.decoder = nn.Sequential(\n",
    "                                        nn.ConvTranspose2d(8, 8, 3), #Input 8 channel, Output 8 channel, 3x3 kernel\n",
    "                                        nn.ReLU(),\n",
    "                                        nn.ConvTranspose2d(8, 16, 3), # Input 8 channel, Output 16 channel\n",
    "                                        nn.ReLU(),\n",
    "                                        nn.Conv2d(16, 3, 3, padding=1),\n",
    "                                        nn.ReLU(),\n",
    "                                     )\n",
    "    \n",
    "    def get_features(self, x):\n",
    "        encoding, _ = self.forward(x)\n",
    "        encoding = encoding.detach() #Detach (just in case!)\n",
    "        encoding = nn.AvgPool2d(28)(encoding) # Global pool -> (B, 8, 1, 1)\n",
    "        return torch.flatten(encoding, start_dim=1) #(B, 8)\n",
    "        \n",
    "    def forward(self, x):\n",
    "        # x is (B, 1, 28, 28)\n",
    "        encoding = self.encoder(x) # (B, 8, 28, 28)\n",
    "        decoding = self.decoder(encoding) # (B, 3, 32, 32)\n",
    "        assert x.shape == decoding.shape, f\"Input {x.shape} but decoding is {decoding.shape}\"\n",
    "        return encoding, decoding"
   ]
  },
  {
   "cell_type": "markdown",
   "metadata": {},
   "source": [
    "### 1.2 Train the Model\n",
    "\n",
    "Next, we will train the model for 100 epochs. The model will learn to reconstruct CIFAR10 training images. \n",
    "\n",
    "Note: The cell below will download CIFAR10 into \"./data/\" directory automatically."
   ]
  },
  {
   "cell_type": "code",
   "execution_count": 3,
   "metadata": {},
   "outputs": [],
   "source": [
    "# Define Training, Eval\n",
    "def get_data(path): #Helper function to download data just in case\n",
    "    _ = CIFAR10(path, train=True) #Download train data\n",
    "    _ = CIFAR10(path, train=False) #Download val data\n",
    "\n",
    "def train(model, num_epochs):\n",
    "    \"\"\" Returns trained model, list of training losses (per epoch), list of validation losses (per epoch)\"\"\"\n",
    "    \n",
    "    # Download data if needed\n",
    "    get_data(\"./data/\")\n",
    "\n",
    "    # Get CIFAR dataset\n",
    "    train_dataset = CIFAR10(\"./data/\", train=True, transform= transforms.ToTensor(), download=False) #Will download if not in ./data/\n",
    "    dataloader = DataLoader(train_dataset, batch_size=64, shuffle=True, pin_memory=True, num_workers=4)\n",
    "    \n",
    "    model.to(DEVICE)\n",
    "\n",
    "    # Optimizations\n",
    "    optimizer = torch.optim.Adam(model.parameters()) #Using default lr = 0.001\n",
    "    loss_func = nn.MSELoss()\n",
    "\n",
    "    # Train\n",
    "    val_losses = []\n",
    "    training_losses = []\n",
    "    best_val_loss = None\n",
    "    for epoch in tqdm.notebook.trange(num_epochs, desc='training', unit='epoch'):\n",
    "        model.train() #Switch to train, b/c eval turns train off\n",
    "        epoch_loss = 0.\n",
    "        with tqdm.notebook.tqdm(dataloader, desc=f'Epoch {epoch}', unit='instance', total=len(dataloader)) as iterator:\n",
    "            for (i, (img, _)) in enumerate(iterator, start=1):\n",
    "                img = img.to(DEVICE)\n",
    "\n",
    "                _, pred_img = model(img)\n",
    "\n",
    "                loss = loss_func(img, pred_img)\n",
    "                epoch_loss += loss.item()\n",
    "\n",
    "                # Update\n",
    "                optimizer.zero_grad()\n",
    "                loss.backward()\n",
    "                optimizer.step()\n",
    "\n",
    "                # Log\n",
    "                iterator.set_postfix(mean_loss = epoch_loss / i, best_val_loss = best_val_loss)\n",
    "            # Evaluate\n",
    "            if best_val_loss is None:\n",
    "                best_val_loss = float('inf')\n",
    "            val_loss = evaluate(model)\n",
    "            best_val_loss = min(val_loss, best_val_loss)\n",
    "\n",
    "            # Save losses\n",
    "            training_losses.append(epoch_loss / i)\n",
    "            val_losses.append(val_loss)\n",
    "    \n",
    "    torch.save(model.state_dict, \"cifar10_cae.pth.tar\")\n",
    "    print(\"Model Saved!\")\n",
    "            \n",
    "    return model, training_losses, val_losses\n",
    "\n",
    "def evaluate(model):\n",
    "    \"\"\" Returns reconstruction error (MSE) on validation data\"\"\"\n",
    "\n",
    "    # Get CIFAR10 val data\n",
    "    val_data = CIFAR10(\"./data/\", train=False, transform=transforms.ToTensor(), download=False)\n",
    "    val_dataloader = DataLoader(val_data, batch_size=64, shuffle=False, pin_memory=True, num_workers=4)\n",
    "\n",
    "    # Do not train!\n",
    "    model.eval()\n",
    "    with torch.no_grad():\n",
    "        total_loss = 0.\n",
    "        for (img, _) in val_dataloader:\n",
    "            img = img.to(DEVICE)\n",
    "\n",
    "            _, pred_img = model(img)\n",
    "\n",
    "            total_loss += nn.MSELoss(reduction='sum')(img, pred_img).item()\n",
    "    \n",
    "    return total_loss / len(val_data)\n",
    "\n"
   ]
  },
  {
   "cell_type": "code",
   "execution_count": 4,
   "metadata": {},
   "outputs": [
    {
     "data": {
      "application/vnd.jupyter.widget-view+json": {
       "model_id": "c1de5eaf72ac46aeaf01a826d7acaaa1",
       "version_major": 2,
       "version_minor": 0
      },
      "text/plain": [
       "training:   0%|          | 0/100 [00:00<?, ?epoch/s]"
      ]
     },
     "metadata": {},
     "output_type": "display_data"
    },
    {
     "data": {
      "application/vnd.jupyter.widget-view+json": {
       "model_id": "8a547a3f1c394ddab7792f1a4d621196",
       "version_major": 2,
       "version_minor": 0
      },
      "text/plain": [
       "Epoch 0:   0%|          | 0/782 [00:00<?, ?instance/s]"
      ]
     },
     "metadata": {},
     "output_type": "display_data"
    },
    {
     "data": {
      "application/vnd.jupyter.widget-view+json": {
       "model_id": "9114a28238a641b9bf3144d50e40cddd",
       "version_major": 2,
       "version_minor": 0
      },
      "text/plain": [
       "Epoch 1:   0%|          | 0/782 [00:00<?, ?instance/s]"
      ]
     },
     "metadata": {},
     "output_type": "display_data"
    },
    {
     "data": {
      "application/vnd.jupyter.widget-view+json": {
       "model_id": "6259be010dc04c0c83e022114bcc3af7",
       "version_major": 2,
       "version_minor": 0
      },
      "text/plain": [
       "Epoch 2:   0%|          | 0/782 [00:00<?, ?instance/s]"
      ]
     },
     "metadata": {},
     "output_type": "display_data"
    },
    {
     "data": {
      "application/vnd.jupyter.widget-view+json": {
       "model_id": "6a082de894954c25bc5a7a10b3334764",
       "version_major": 2,
       "version_minor": 0
      },
      "text/plain": [
       "Epoch 3:   0%|          | 0/782 [00:00<?, ?instance/s]"
      ]
     },
     "metadata": {},
     "output_type": "display_data"
    },
    {
     "data": {
      "application/vnd.jupyter.widget-view+json": {
       "model_id": "a9fee06159e1434d83d37812f4f700cb",
       "version_major": 2,
       "version_minor": 0
      },
      "text/plain": [
       "Epoch 4:   0%|          | 0/782 [00:00<?, ?instance/s]"
      ]
     },
     "metadata": {},
     "output_type": "display_data"
    },
    {
     "data": {
      "application/vnd.jupyter.widget-view+json": {
       "model_id": "7a0c812010a9415e816de857f7cc3cbf",
       "version_major": 2,
       "version_minor": 0
      },
      "text/plain": [
       "Epoch 5:   0%|          | 0/782 [00:00<?, ?instance/s]"
      ]
     },
     "metadata": {},
     "output_type": "display_data"
    },
    {
     "data": {
      "application/vnd.jupyter.widget-view+json": {
       "model_id": "1bdd239a93104df9b62547acac0f9ceb",
       "version_major": 2,
       "version_minor": 0
      },
      "text/plain": [
       "Epoch 6:   0%|          | 0/782 [00:00<?, ?instance/s]"
      ]
     },
     "metadata": {},
     "output_type": "display_data"
    },
    {
     "data": {
      "application/vnd.jupyter.widget-view+json": {
       "model_id": "364d182cac2c41c094b656812458faaa",
       "version_major": 2,
       "version_minor": 0
      },
      "text/plain": [
       "Epoch 7:   0%|          | 0/782 [00:00<?, ?instance/s]"
      ]
     },
     "metadata": {},
     "output_type": "display_data"
    },
    {
     "data": {
      "application/vnd.jupyter.widget-view+json": {
       "model_id": "cfa13631d72e41629eaf00e2b59d12bb",
       "version_major": 2,
       "version_minor": 0
      },
      "text/plain": [
       "Epoch 8:   0%|          | 0/782 [00:00<?, ?instance/s]"
      ]
     },
     "metadata": {},
     "output_type": "display_data"
    },
    {
     "data": {
      "application/vnd.jupyter.widget-view+json": {
       "model_id": "20abd63ae55142808f3fa01eac921540",
       "version_major": 2,
       "version_minor": 0
      },
      "text/plain": [
       "Epoch 9:   0%|          | 0/782 [00:00<?, ?instance/s]"
      ]
     },
     "metadata": {},
     "output_type": "display_data"
    },
    {
     "data": {
      "application/vnd.jupyter.widget-view+json": {
       "model_id": "b3441315dedb45649ccce54721fde396",
       "version_major": 2,
       "version_minor": 0
      },
      "text/plain": [
       "Epoch 10:   0%|          | 0/782 [00:00<?, ?instance/s]"
      ]
     },
     "metadata": {},
     "output_type": "display_data"
    },
    {
     "data": {
      "application/vnd.jupyter.widget-view+json": {
       "model_id": "35d25b8090424197810c4a39a1185130",
       "version_major": 2,
       "version_minor": 0
      },
      "text/plain": [
       "Epoch 11:   0%|          | 0/782 [00:00<?, ?instance/s]"
      ]
     },
     "metadata": {},
     "output_type": "display_data"
    },
    {
     "data": {
      "application/vnd.jupyter.widget-view+json": {
       "model_id": "24a0832e169543da8efb0c2d86e38c70",
       "version_major": 2,
       "version_minor": 0
      },
      "text/plain": [
       "Epoch 12:   0%|          | 0/782 [00:00<?, ?instance/s]"
      ]
     },
     "metadata": {},
     "output_type": "display_data"
    },
    {
     "data": {
      "application/vnd.jupyter.widget-view+json": {
       "model_id": "1d176fce8f134192b742b459e5b24868",
       "version_major": 2,
       "version_minor": 0
      },
      "text/plain": [
       "Epoch 13:   0%|          | 0/782 [00:00<?, ?instance/s]"
      ]
     },
     "metadata": {},
     "output_type": "display_data"
    },
    {
     "data": {
      "application/vnd.jupyter.widget-view+json": {
       "model_id": "9bed344ab33042778f9ef831e48037e1",
       "version_major": 2,
       "version_minor": 0
      },
      "text/plain": [
       "Epoch 14:   0%|          | 0/782 [00:00<?, ?instance/s]"
      ]
     },
     "metadata": {},
     "output_type": "display_data"
    },
    {
     "data": {
      "application/vnd.jupyter.widget-view+json": {
       "model_id": "149a867bf44e4af1972bae0ec3e7990b",
       "version_major": 2,
       "version_minor": 0
      },
      "text/plain": [
       "Epoch 15:   0%|          | 0/782 [00:00<?, ?instance/s]"
      ]
     },
     "metadata": {},
     "output_type": "display_data"
    },
    {
     "data": {
      "application/vnd.jupyter.widget-view+json": {
       "model_id": "e100dc10020942eaa945e9fd47abca6e",
       "version_major": 2,
       "version_minor": 0
      },
      "text/plain": [
       "Epoch 16:   0%|          | 0/782 [00:00<?, ?instance/s]"
      ]
     },
     "metadata": {},
     "output_type": "display_data"
    },
    {
     "data": {
      "application/vnd.jupyter.widget-view+json": {
       "model_id": "3cd2ddb3f6504afd99fd436087a904d9",
       "version_major": 2,
       "version_minor": 0
      },
      "text/plain": [
       "Epoch 17:   0%|          | 0/782 [00:00<?, ?instance/s]"
      ]
     },
     "metadata": {},
     "output_type": "display_data"
    },
    {
     "data": {
      "application/vnd.jupyter.widget-view+json": {
       "model_id": "1a7a4cc8915949b38a3d35363fad0660",
       "version_major": 2,
       "version_minor": 0
      },
      "text/plain": [
       "Epoch 18:   0%|          | 0/782 [00:00<?, ?instance/s]"
      ]
     },
     "metadata": {},
     "output_type": "display_data"
    },
    {
     "data": {
      "application/vnd.jupyter.widget-view+json": {
       "model_id": "ae51235ab7a843018af87889cd93f6e8",
       "version_major": 2,
       "version_minor": 0
      },
      "text/plain": [
       "Epoch 19:   0%|          | 0/782 [00:00<?, ?instance/s]"
      ]
     },
     "metadata": {},
     "output_type": "display_data"
    },
    {
     "data": {
      "application/vnd.jupyter.widget-view+json": {
       "model_id": "4112a9e0e00e4e6d9c2c14675916c8b7",
       "version_major": 2,
       "version_minor": 0
      },
      "text/plain": [
       "Epoch 20:   0%|          | 0/782 [00:00<?, ?instance/s]"
      ]
     },
     "metadata": {},
     "output_type": "display_data"
    },
    {
     "data": {
      "application/vnd.jupyter.widget-view+json": {
       "model_id": "5ccaf14614b84c62ab77dd9e617b8159",
       "version_major": 2,
       "version_minor": 0
      },
      "text/plain": [
       "Epoch 21:   0%|          | 0/782 [00:00<?, ?instance/s]"
      ]
     },
     "metadata": {},
     "output_type": "display_data"
    },
    {
     "data": {
      "application/vnd.jupyter.widget-view+json": {
       "model_id": "4601877dca724feea1513f471737ff15",
       "version_major": 2,
       "version_minor": 0
      },
      "text/plain": [
       "Epoch 22:   0%|          | 0/782 [00:00<?, ?instance/s]"
      ]
     },
     "metadata": {},
     "output_type": "display_data"
    },
    {
     "data": {
      "application/vnd.jupyter.widget-view+json": {
       "model_id": "0278b04cd4cc412b8daec880418678ca",
       "version_major": 2,
       "version_minor": 0
      },
      "text/plain": [
       "Epoch 23:   0%|          | 0/782 [00:00<?, ?instance/s]"
      ]
     },
     "metadata": {},
     "output_type": "display_data"
    },
    {
     "data": {
      "application/vnd.jupyter.widget-view+json": {
       "model_id": "e6cbeb141c1b408b9b9eafde1fc009f4",
       "version_major": 2,
       "version_minor": 0
      },
      "text/plain": [
       "Epoch 24:   0%|          | 0/782 [00:00<?, ?instance/s]"
      ]
     },
     "metadata": {},
     "output_type": "display_data"
    },
    {
     "data": {
      "application/vnd.jupyter.widget-view+json": {
       "model_id": "51effbae8ad14fffb57eeb9c5d340618",
       "version_major": 2,
       "version_minor": 0
      },
      "text/plain": [
       "Epoch 25:   0%|          | 0/782 [00:00<?, ?instance/s]"
      ]
     },
     "metadata": {},
     "output_type": "display_data"
    },
    {
     "data": {
      "application/vnd.jupyter.widget-view+json": {
       "model_id": "18ceff3e54c54102963fe368ec34b519",
       "version_major": 2,
       "version_minor": 0
      },
      "text/plain": [
       "Epoch 26:   0%|          | 0/782 [00:00<?, ?instance/s]"
      ]
     },
     "metadata": {},
     "output_type": "display_data"
    },
    {
     "data": {
      "application/vnd.jupyter.widget-view+json": {
       "model_id": "22dc896f322b488b8e85fb7da5ed71de",
       "version_major": 2,
       "version_minor": 0
      },
      "text/plain": [
       "Epoch 27:   0%|          | 0/782 [00:00<?, ?instance/s]"
      ]
     },
     "metadata": {},
     "output_type": "display_data"
    },
    {
     "data": {
      "application/vnd.jupyter.widget-view+json": {
       "model_id": "46207c73b1ca4a7094e924a1ad1f2043",
       "version_major": 2,
       "version_minor": 0
      },
      "text/plain": [
       "Epoch 28:   0%|          | 0/782 [00:00<?, ?instance/s]"
      ]
     },
     "metadata": {},
     "output_type": "display_data"
    },
    {
     "data": {
      "application/vnd.jupyter.widget-view+json": {
       "model_id": "fb4532049b8f401082fb0326797eb0a3",
       "version_major": 2,
       "version_minor": 0
      },
      "text/plain": [
       "Epoch 29:   0%|          | 0/782 [00:00<?, ?instance/s]"
      ]
     },
     "metadata": {},
     "output_type": "display_data"
    },
    {
     "data": {
      "application/vnd.jupyter.widget-view+json": {
       "model_id": "3aca388d8c684a12809bc048414ef14f",
       "version_major": 2,
       "version_minor": 0
      },
      "text/plain": [
       "Epoch 30:   0%|          | 0/782 [00:00<?, ?instance/s]"
      ]
     },
     "metadata": {},
     "output_type": "display_data"
    },
    {
     "data": {
      "application/vnd.jupyter.widget-view+json": {
       "model_id": "e623030d78904ad0b94cba7ebf1eba73",
       "version_major": 2,
       "version_minor": 0
      },
      "text/plain": [
       "Epoch 31:   0%|          | 0/782 [00:00<?, ?instance/s]"
      ]
     },
     "metadata": {},
     "output_type": "display_data"
    },
    {
     "data": {
      "application/vnd.jupyter.widget-view+json": {
       "model_id": "c5256365977a49198a65e131043c5f28",
       "version_major": 2,
       "version_minor": 0
      },
      "text/plain": [
       "Epoch 32:   0%|          | 0/782 [00:00<?, ?instance/s]"
      ]
     },
     "metadata": {},
     "output_type": "display_data"
    },
    {
     "data": {
      "application/vnd.jupyter.widget-view+json": {
       "model_id": "b0fa9b0174bd41b696a1d4cb437c372c",
       "version_major": 2,
       "version_minor": 0
      },
      "text/plain": [
       "Epoch 33:   0%|          | 0/782 [00:00<?, ?instance/s]"
      ]
     },
     "metadata": {},
     "output_type": "display_data"
    },
    {
     "data": {
      "application/vnd.jupyter.widget-view+json": {
       "model_id": "9f127da18da94496adb5c6ed4cfb38d0",
       "version_major": 2,
       "version_minor": 0
      },
      "text/plain": [
       "Epoch 34:   0%|          | 0/782 [00:00<?, ?instance/s]"
      ]
     },
     "metadata": {},
     "output_type": "display_data"
    },
    {
     "data": {
      "application/vnd.jupyter.widget-view+json": {
       "model_id": "4d00fd8f423f43b4bdc053daec6cc8af",
       "version_major": 2,
       "version_minor": 0
      },
      "text/plain": [
       "Epoch 35:   0%|          | 0/782 [00:00<?, ?instance/s]"
      ]
     },
     "metadata": {},
     "output_type": "display_data"
    },
    {
     "data": {
      "application/vnd.jupyter.widget-view+json": {
       "model_id": "ee0558d1791a4acc90b4f0703502605f",
       "version_major": 2,
       "version_minor": 0
      },
      "text/plain": [
       "Epoch 36:   0%|          | 0/782 [00:00<?, ?instance/s]"
      ]
     },
     "metadata": {},
     "output_type": "display_data"
    },
    {
     "data": {
      "application/vnd.jupyter.widget-view+json": {
       "model_id": "9d3cd4db67174d1ba8c8ce84ebfd8ad5",
       "version_major": 2,
       "version_minor": 0
      },
      "text/plain": [
       "Epoch 37:   0%|          | 0/782 [00:00<?, ?instance/s]"
      ]
     },
     "metadata": {},
     "output_type": "display_data"
    },
    {
     "data": {
      "application/vnd.jupyter.widget-view+json": {
       "model_id": "7bb2bcecdf0f45a491b7dfbd16147239",
       "version_major": 2,
       "version_minor": 0
      },
      "text/plain": [
       "Epoch 38:   0%|          | 0/782 [00:00<?, ?instance/s]"
      ]
     },
     "metadata": {},
     "output_type": "display_data"
    },
    {
     "data": {
      "application/vnd.jupyter.widget-view+json": {
       "model_id": "305dec35a16e4a969d4b08e9712c47f7",
       "version_major": 2,
       "version_minor": 0
      },
      "text/plain": [
       "Epoch 39:   0%|          | 0/782 [00:00<?, ?instance/s]"
      ]
     },
     "metadata": {},
     "output_type": "display_data"
    },
    {
     "data": {
      "application/vnd.jupyter.widget-view+json": {
       "model_id": "e980e0e892c6428280e5e20b937a38e4",
       "version_major": 2,
       "version_minor": 0
      },
      "text/plain": [
       "Epoch 40:   0%|          | 0/782 [00:00<?, ?instance/s]"
      ]
     },
     "metadata": {},
     "output_type": "display_data"
    },
    {
     "data": {
      "application/vnd.jupyter.widget-view+json": {
       "model_id": "d523d5c89ffc484d81c80a9df6618d99",
       "version_major": 2,
       "version_minor": 0
      },
      "text/plain": [
       "Epoch 41:   0%|          | 0/782 [00:00<?, ?instance/s]"
      ]
     },
     "metadata": {},
     "output_type": "display_data"
    },
    {
     "data": {
      "application/vnd.jupyter.widget-view+json": {
       "model_id": "81289ce391fa4cfcb259c448d26a3b9a",
       "version_major": 2,
       "version_minor": 0
      },
      "text/plain": [
       "Epoch 42:   0%|          | 0/782 [00:00<?, ?instance/s]"
      ]
     },
     "metadata": {},
     "output_type": "display_data"
    },
    {
     "data": {
      "application/vnd.jupyter.widget-view+json": {
       "model_id": "8ca217e75c6c4dd790a5e84f5188a0d4",
       "version_major": 2,
       "version_minor": 0
      },
      "text/plain": [
       "Epoch 43:   0%|          | 0/782 [00:00<?, ?instance/s]"
      ]
     },
     "metadata": {},
     "output_type": "display_data"
    },
    {
     "data": {
      "application/vnd.jupyter.widget-view+json": {
       "model_id": "aa1a418e1d874c4faca6a86a06d3aa86",
       "version_major": 2,
       "version_minor": 0
      },
      "text/plain": [
       "Epoch 44:   0%|          | 0/782 [00:00<?, ?instance/s]"
      ]
     },
     "metadata": {},
     "output_type": "display_data"
    },
    {
     "data": {
      "application/vnd.jupyter.widget-view+json": {
       "model_id": "14863d4e0a324b7da98bb81305a82724",
       "version_major": 2,
       "version_minor": 0
      },
      "text/plain": [
       "Epoch 45:   0%|          | 0/782 [00:00<?, ?instance/s]"
      ]
     },
     "metadata": {},
     "output_type": "display_data"
    },
    {
     "data": {
      "application/vnd.jupyter.widget-view+json": {
       "model_id": "f908351db0804bd8be9088c3007ce33c",
       "version_major": 2,
       "version_minor": 0
      },
      "text/plain": [
       "Epoch 46:   0%|          | 0/782 [00:00<?, ?instance/s]"
      ]
     },
     "metadata": {},
     "output_type": "display_data"
    },
    {
     "data": {
      "application/vnd.jupyter.widget-view+json": {
       "model_id": "645a0369ca334b888953ed6bac291af8",
       "version_major": 2,
       "version_minor": 0
      },
      "text/plain": [
       "Epoch 47:   0%|          | 0/782 [00:00<?, ?instance/s]"
      ]
     },
     "metadata": {},
     "output_type": "display_data"
    },
    {
     "data": {
      "application/vnd.jupyter.widget-view+json": {
       "model_id": "5eb2618d75bd4393950d65fb043151c6",
       "version_major": 2,
       "version_minor": 0
      },
      "text/plain": [
       "Epoch 48:   0%|          | 0/782 [00:00<?, ?instance/s]"
      ]
     },
     "metadata": {},
     "output_type": "display_data"
    },
    {
     "data": {
      "application/vnd.jupyter.widget-view+json": {
       "model_id": "7c196b4b139f488c851f6bc3994d9215",
       "version_major": 2,
       "version_minor": 0
      },
      "text/plain": [
       "Epoch 49:   0%|          | 0/782 [00:00<?, ?instance/s]"
      ]
     },
     "metadata": {},
     "output_type": "display_data"
    },
    {
     "data": {
      "application/vnd.jupyter.widget-view+json": {
       "model_id": "923276ac848541208450ad65375c245e",
       "version_major": 2,
       "version_minor": 0
      },
      "text/plain": [
       "Epoch 50:   0%|          | 0/782 [00:00<?, ?instance/s]"
      ]
     },
     "metadata": {},
     "output_type": "display_data"
    },
    {
     "data": {
      "application/vnd.jupyter.widget-view+json": {
       "model_id": "8b72eeca6c654f2581b398c495dc6490",
       "version_major": 2,
       "version_minor": 0
      },
      "text/plain": [
       "Epoch 51:   0%|          | 0/782 [00:00<?, ?instance/s]"
      ]
     },
     "metadata": {},
     "output_type": "display_data"
    },
    {
     "data": {
      "application/vnd.jupyter.widget-view+json": {
       "model_id": "512ec96130b046dc82c9bb9615007b3f",
       "version_major": 2,
       "version_minor": 0
      },
      "text/plain": [
       "Epoch 52:   0%|          | 0/782 [00:00<?, ?instance/s]"
      ]
     },
     "metadata": {},
     "output_type": "display_data"
    },
    {
     "data": {
      "application/vnd.jupyter.widget-view+json": {
       "model_id": "067eb104698c40e294cec8a4ca793dfc",
       "version_major": 2,
       "version_minor": 0
      },
      "text/plain": [
       "Epoch 53:   0%|          | 0/782 [00:00<?, ?instance/s]"
      ]
     },
     "metadata": {},
     "output_type": "display_data"
    },
    {
     "data": {
      "application/vnd.jupyter.widget-view+json": {
       "model_id": "4b1242bf6cfd4549bb8e3e3f7ef25922",
       "version_major": 2,
       "version_minor": 0
      },
      "text/plain": [
       "Epoch 54:   0%|          | 0/782 [00:00<?, ?instance/s]"
      ]
     },
     "metadata": {},
     "output_type": "display_data"
    },
    {
     "data": {
      "application/vnd.jupyter.widget-view+json": {
       "model_id": "c214949e7f1a4aafaad335f413185b11",
       "version_major": 2,
       "version_minor": 0
      },
      "text/plain": [
       "Epoch 55:   0%|          | 0/782 [00:00<?, ?instance/s]"
      ]
     },
     "metadata": {},
     "output_type": "display_data"
    },
    {
     "data": {
      "application/vnd.jupyter.widget-view+json": {
       "model_id": "39b6872a173e4016810eaa30685a3258",
       "version_major": 2,
       "version_minor": 0
      },
      "text/plain": [
       "Epoch 56:   0%|          | 0/782 [00:00<?, ?instance/s]"
      ]
     },
     "metadata": {},
     "output_type": "display_data"
    },
    {
     "data": {
      "application/vnd.jupyter.widget-view+json": {
       "model_id": "fa403ec45a614539863d3ae9c3d49d69",
       "version_major": 2,
       "version_minor": 0
      },
      "text/plain": [
       "Epoch 57:   0%|          | 0/782 [00:00<?, ?instance/s]"
      ]
     },
     "metadata": {},
     "output_type": "display_data"
    },
    {
     "data": {
      "application/vnd.jupyter.widget-view+json": {
       "model_id": "e9abebad350841ee95cb5cff2458e8f3",
       "version_major": 2,
       "version_minor": 0
      },
      "text/plain": [
       "Epoch 58:   0%|          | 0/782 [00:00<?, ?instance/s]"
      ]
     },
     "metadata": {},
     "output_type": "display_data"
    },
    {
     "data": {
      "application/vnd.jupyter.widget-view+json": {
       "model_id": "765712dca2b34954a9d5cad6cb188466",
       "version_major": 2,
       "version_minor": 0
      },
      "text/plain": [
       "Epoch 59:   0%|          | 0/782 [00:00<?, ?instance/s]"
      ]
     },
     "metadata": {},
     "output_type": "display_data"
    },
    {
     "data": {
      "application/vnd.jupyter.widget-view+json": {
       "model_id": "b4d5a9e9bade4dee90538036d32aa6de",
       "version_major": 2,
       "version_minor": 0
      },
      "text/plain": [
       "Epoch 60:   0%|          | 0/782 [00:00<?, ?instance/s]"
      ]
     },
     "metadata": {},
     "output_type": "display_data"
    },
    {
     "data": {
      "application/vnd.jupyter.widget-view+json": {
       "model_id": "e54488fafbdb4b70a4e8eb9f67e3c738",
       "version_major": 2,
       "version_minor": 0
      },
      "text/plain": [
       "Epoch 61:   0%|          | 0/782 [00:00<?, ?instance/s]"
      ]
     },
     "metadata": {},
     "output_type": "display_data"
    },
    {
     "data": {
      "application/vnd.jupyter.widget-view+json": {
       "model_id": "015cd105afd74e89acfe30aed7f1ff62",
       "version_major": 2,
       "version_minor": 0
      },
      "text/plain": [
       "Epoch 62:   0%|          | 0/782 [00:00<?, ?instance/s]"
      ]
     },
     "metadata": {},
     "output_type": "display_data"
    },
    {
     "data": {
      "application/vnd.jupyter.widget-view+json": {
       "model_id": "680792978c4d4be6a5a15106ca416e7a",
       "version_major": 2,
       "version_minor": 0
      },
      "text/plain": [
       "Epoch 63:   0%|          | 0/782 [00:00<?, ?instance/s]"
      ]
     },
     "metadata": {},
     "output_type": "display_data"
    },
    {
     "data": {
      "application/vnd.jupyter.widget-view+json": {
       "model_id": "2f146aa5424b4cf7a12ca8ecddd99060",
       "version_major": 2,
       "version_minor": 0
      },
      "text/plain": [
       "Epoch 64:   0%|          | 0/782 [00:00<?, ?instance/s]"
      ]
     },
     "metadata": {},
     "output_type": "display_data"
    },
    {
     "data": {
      "application/vnd.jupyter.widget-view+json": {
       "model_id": "ab0ba7da62e14193bd5a1012e5679f16",
       "version_major": 2,
       "version_minor": 0
      },
      "text/plain": [
       "Epoch 65:   0%|          | 0/782 [00:00<?, ?instance/s]"
      ]
     },
     "metadata": {},
     "output_type": "display_data"
    },
    {
     "data": {
      "application/vnd.jupyter.widget-view+json": {
       "model_id": "deec2d16b43c4a07a914d03f558ce233",
       "version_major": 2,
       "version_minor": 0
      },
      "text/plain": [
       "Epoch 66:   0%|          | 0/782 [00:00<?, ?instance/s]"
      ]
     },
     "metadata": {},
     "output_type": "display_data"
    },
    {
     "data": {
      "application/vnd.jupyter.widget-view+json": {
       "model_id": "10c04496d1b643ec9f4bc37f6efc168a",
       "version_major": 2,
       "version_minor": 0
      },
      "text/plain": [
       "Epoch 67:   0%|          | 0/782 [00:00<?, ?instance/s]"
      ]
     },
     "metadata": {},
     "output_type": "display_data"
    },
    {
     "data": {
      "application/vnd.jupyter.widget-view+json": {
       "model_id": "61782568fa5149d7bd4fa087f202f512",
       "version_major": 2,
       "version_minor": 0
      },
      "text/plain": [
       "Epoch 68:   0%|          | 0/782 [00:00<?, ?instance/s]"
      ]
     },
     "metadata": {},
     "output_type": "display_data"
    },
    {
     "data": {
      "application/vnd.jupyter.widget-view+json": {
       "model_id": "81e51145ff364e2d84a1c0e420cdd3b9",
       "version_major": 2,
       "version_minor": 0
      },
      "text/plain": [
       "Epoch 69:   0%|          | 0/782 [00:00<?, ?instance/s]"
      ]
     },
     "metadata": {},
     "output_type": "display_data"
    },
    {
     "data": {
      "application/vnd.jupyter.widget-view+json": {
       "model_id": "b9595b49386749ba9d6a4c3aef1b0f41",
       "version_major": 2,
       "version_minor": 0
      },
      "text/plain": [
       "Epoch 70:   0%|          | 0/782 [00:00<?, ?instance/s]"
      ]
     },
     "metadata": {},
     "output_type": "display_data"
    },
    {
     "data": {
      "application/vnd.jupyter.widget-view+json": {
       "model_id": "6d380a2f5bff4b4797bab608acde0363",
       "version_major": 2,
       "version_minor": 0
      },
      "text/plain": [
       "Epoch 71:   0%|          | 0/782 [00:00<?, ?instance/s]"
      ]
     },
     "metadata": {},
     "output_type": "display_data"
    },
    {
     "data": {
      "application/vnd.jupyter.widget-view+json": {
       "model_id": "4380612cc1fe45bcbfe6e810454296ea",
       "version_major": 2,
       "version_minor": 0
      },
      "text/plain": [
       "Epoch 72:   0%|          | 0/782 [00:00<?, ?instance/s]"
      ]
     },
     "metadata": {},
     "output_type": "display_data"
    },
    {
     "data": {
      "application/vnd.jupyter.widget-view+json": {
       "model_id": "d71fd6b506694003854a212219684841",
       "version_major": 2,
       "version_minor": 0
      },
      "text/plain": [
       "Epoch 73:   0%|          | 0/782 [00:00<?, ?instance/s]"
      ]
     },
     "metadata": {},
     "output_type": "display_data"
    },
    {
     "data": {
      "application/vnd.jupyter.widget-view+json": {
       "model_id": "e052ef1fd0bf4621afcab66441401219",
       "version_major": 2,
       "version_minor": 0
      },
      "text/plain": [
       "Epoch 74:   0%|          | 0/782 [00:00<?, ?instance/s]"
      ]
     },
     "metadata": {},
     "output_type": "display_data"
    },
    {
     "data": {
      "application/vnd.jupyter.widget-view+json": {
       "model_id": "999fc686f8334a46a6fe7b6d8fcf3112",
       "version_major": 2,
       "version_minor": 0
      },
      "text/plain": [
       "Epoch 75:   0%|          | 0/782 [00:00<?, ?instance/s]"
      ]
     },
     "metadata": {},
     "output_type": "display_data"
    },
    {
     "data": {
      "application/vnd.jupyter.widget-view+json": {
       "model_id": "7cae24deec5b4dabb15bed43a72e9fb6",
       "version_major": 2,
       "version_minor": 0
      },
      "text/plain": [
       "Epoch 76:   0%|          | 0/782 [00:00<?, ?instance/s]"
      ]
     },
     "metadata": {},
     "output_type": "display_data"
    },
    {
     "data": {
      "application/vnd.jupyter.widget-view+json": {
       "model_id": "cfeb03087cc245a3a9372a2cc1d48539",
       "version_major": 2,
       "version_minor": 0
      },
      "text/plain": [
       "Epoch 77:   0%|          | 0/782 [00:00<?, ?instance/s]"
      ]
     },
     "metadata": {},
     "output_type": "display_data"
    },
    {
     "data": {
      "application/vnd.jupyter.widget-view+json": {
       "model_id": "4a1c58065a02485bbe35d11f3eb04a63",
       "version_major": 2,
       "version_minor": 0
      },
      "text/plain": [
       "Epoch 78:   0%|          | 0/782 [00:00<?, ?instance/s]"
      ]
     },
     "metadata": {},
     "output_type": "display_data"
    },
    {
     "data": {
      "application/vnd.jupyter.widget-view+json": {
       "model_id": "4756699fca5847ce8bdbcef86c614343",
       "version_major": 2,
       "version_minor": 0
      },
      "text/plain": [
       "Epoch 79:   0%|          | 0/782 [00:00<?, ?instance/s]"
      ]
     },
     "metadata": {},
     "output_type": "display_data"
    },
    {
     "data": {
      "application/vnd.jupyter.widget-view+json": {
       "model_id": "54e33f636f8746ce8ae10a3a1f91bcd3",
       "version_major": 2,
       "version_minor": 0
      },
      "text/plain": [
       "Epoch 80:   0%|          | 0/782 [00:00<?, ?instance/s]"
      ]
     },
     "metadata": {},
     "output_type": "display_data"
    },
    {
     "data": {
      "application/vnd.jupyter.widget-view+json": {
       "model_id": "71e1c60ec282462980d63265bf6a8f42",
       "version_major": 2,
       "version_minor": 0
      },
      "text/plain": [
       "Epoch 81:   0%|          | 0/782 [00:00<?, ?instance/s]"
      ]
     },
     "metadata": {},
     "output_type": "display_data"
    },
    {
     "data": {
      "application/vnd.jupyter.widget-view+json": {
       "model_id": "845e799e23834efca773ed7f80e3c260",
       "version_major": 2,
       "version_minor": 0
      },
      "text/plain": [
       "Epoch 82:   0%|          | 0/782 [00:00<?, ?instance/s]"
      ]
     },
     "metadata": {},
     "output_type": "display_data"
    },
    {
     "data": {
      "application/vnd.jupyter.widget-view+json": {
       "model_id": "9a4bf6910b724a6c9d8131cd7b0bf85f",
       "version_major": 2,
       "version_minor": 0
      },
      "text/plain": [
       "Epoch 83:   0%|          | 0/782 [00:00<?, ?instance/s]"
      ]
     },
     "metadata": {},
     "output_type": "display_data"
    },
    {
     "data": {
      "application/vnd.jupyter.widget-view+json": {
       "model_id": "f7ca6831492240c18a52f87bb511373e",
       "version_major": 2,
       "version_minor": 0
      },
      "text/plain": [
       "Epoch 84:   0%|          | 0/782 [00:00<?, ?instance/s]"
      ]
     },
     "metadata": {},
     "output_type": "display_data"
    },
    {
     "data": {
      "application/vnd.jupyter.widget-view+json": {
       "model_id": "a0ae533b54894976abf8ef748a063037",
       "version_major": 2,
       "version_minor": 0
      },
      "text/plain": [
       "Epoch 85:   0%|          | 0/782 [00:00<?, ?instance/s]"
      ]
     },
     "metadata": {},
     "output_type": "display_data"
    },
    {
     "data": {
      "application/vnd.jupyter.widget-view+json": {
       "model_id": "cb357a90331240958d824ea93dff7be5",
       "version_major": 2,
       "version_minor": 0
      },
      "text/plain": [
       "Epoch 86:   0%|          | 0/782 [00:00<?, ?instance/s]"
      ]
     },
     "metadata": {},
     "output_type": "display_data"
    },
    {
     "data": {
      "application/vnd.jupyter.widget-view+json": {
       "model_id": "719cbda266a54255baf9d7bc4c7466ad",
       "version_major": 2,
       "version_minor": 0
      },
      "text/plain": [
       "Epoch 87:   0%|          | 0/782 [00:00<?, ?instance/s]"
      ]
     },
     "metadata": {},
     "output_type": "display_data"
    },
    {
     "data": {
      "application/vnd.jupyter.widget-view+json": {
       "model_id": "a8956b0082f04ac78039d1a88306e1dc",
       "version_major": 2,
       "version_minor": 0
      },
      "text/plain": [
       "Epoch 88:   0%|          | 0/782 [00:00<?, ?instance/s]"
      ]
     },
     "metadata": {},
     "output_type": "display_data"
    },
    {
     "data": {
      "application/vnd.jupyter.widget-view+json": {
       "model_id": "fe39183a0e3748269102d14eeaede20d",
       "version_major": 2,
       "version_minor": 0
      },
      "text/plain": [
       "Epoch 89:   0%|          | 0/782 [00:00<?, ?instance/s]"
      ]
     },
     "metadata": {},
     "output_type": "display_data"
    },
    {
     "data": {
      "application/vnd.jupyter.widget-view+json": {
       "model_id": "7a614af4b42544d89eef9e49b0e96d94",
       "version_major": 2,
       "version_minor": 0
      },
      "text/plain": [
       "Epoch 90:   0%|          | 0/782 [00:00<?, ?instance/s]"
      ]
     },
     "metadata": {},
     "output_type": "display_data"
    },
    {
     "data": {
      "application/vnd.jupyter.widget-view+json": {
       "model_id": "33701e900fc14d25b151d65ae8167b42",
       "version_major": 2,
       "version_minor": 0
      },
      "text/plain": [
       "Epoch 91:   0%|          | 0/782 [00:00<?, ?instance/s]"
      ]
     },
     "metadata": {},
     "output_type": "display_data"
    },
    {
     "data": {
      "application/vnd.jupyter.widget-view+json": {
       "model_id": "905a8c9afd3a44cfb50ba5484721378b",
       "version_major": 2,
       "version_minor": 0
      },
      "text/plain": [
       "Epoch 92:   0%|          | 0/782 [00:00<?, ?instance/s]"
      ]
     },
     "metadata": {},
     "output_type": "display_data"
    },
    {
     "data": {
      "application/vnd.jupyter.widget-view+json": {
       "model_id": "2d6d93a07faf40568dabcdb1d7cc1cdf",
       "version_major": 2,
       "version_minor": 0
      },
      "text/plain": [
       "Epoch 93:   0%|          | 0/782 [00:00<?, ?instance/s]"
      ]
     },
     "metadata": {},
     "output_type": "display_data"
    },
    {
     "data": {
      "application/vnd.jupyter.widget-view+json": {
       "model_id": "7291943aa4df490d8d44e6bafddd9ba5",
       "version_major": 2,
       "version_minor": 0
      },
      "text/plain": [
       "Epoch 94:   0%|          | 0/782 [00:00<?, ?instance/s]"
      ]
     },
     "metadata": {},
     "output_type": "display_data"
    },
    {
     "data": {
      "application/vnd.jupyter.widget-view+json": {
       "model_id": "e1a4818d0d784911bc66ac9b4f030cd5",
       "version_major": 2,
       "version_minor": 0
      },
      "text/plain": [
       "Epoch 95:   0%|          | 0/782 [00:00<?, ?instance/s]"
      ]
     },
     "metadata": {},
     "output_type": "display_data"
    },
    {
     "data": {
      "application/vnd.jupyter.widget-view+json": {
       "model_id": "07ddcc6420494077aed0be7b5db0f72a",
       "version_major": 2,
       "version_minor": 0
      },
      "text/plain": [
       "Epoch 96:   0%|          | 0/782 [00:00<?, ?instance/s]"
      ]
     },
     "metadata": {},
     "output_type": "display_data"
    },
    {
     "data": {
      "application/vnd.jupyter.widget-view+json": {
       "model_id": "2422e665feb747879237868238d31767",
       "version_major": 2,
       "version_minor": 0
      },
      "text/plain": [
       "Epoch 97:   0%|          | 0/782 [00:00<?, ?instance/s]"
      ]
     },
     "metadata": {},
     "output_type": "display_data"
    },
    {
     "data": {
      "application/vnd.jupyter.widget-view+json": {
       "model_id": "8068185c5ab0443b9de4d6eff3083777",
       "version_major": 2,
       "version_minor": 0
      },
      "text/plain": [
       "Epoch 98:   0%|          | 0/782 [00:00<?, ?instance/s]"
      ]
     },
     "metadata": {},
     "output_type": "display_data"
    },
    {
     "data": {
      "application/vnd.jupyter.widget-view+json": {
       "model_id": "e8df61bef5f64b96889e4ba9dc3b251b",
       "version_major": 2,
       "version_minor": 0
      },
      "text/plain": [
       "Epoch 99:   0%|          | 0/782 [00:00<?, ?instance/s]"
      ]
     },
     "metadata": {},
     "output_type": "display_data"
    },
    {
     "name": "stdout",
     "output_type": "stream",
     "text": [
      "Model Saved!\n"
     ]
    }
   ],
   "source": [
    "# Create model and train\n",
    "autoencoder = ConvAutoEncoder()\n",
    "trained_autoencoder, train_losses, val_losses = train(autoencoder, 100)"
   ]
  },
  {
   "cell_type": "markdown",
   "metadata": {},
   "source": [
    "### 1.3 Visualize Predictions (Optional)\n",
    "\n",
    "Finally, we will visualize some of our model's predictions below!"
   ]
  },
  {
   "cell_type": "code",
   "execution_count": 5,
   "metadata": {},
   "outputs": [
    {
     "name": "stderr",
     "output_type": "stream",
     "text": [
      "Clipping input data to the valid range for imshow with RGB data ([0..1] for floats or [0..255] for integers).\n"
     ]
    },
    {
     "data": {
      "text/plain": [
       "<Figure size 432x288 with 0 Axes>"
      ]
     },
     "metadata": {},
     "output_type": "display_data"
    },
    {
     "data": {
      "image/png": "[encoded data removed]",
      "text/plain": [
       "<Figure size 432x288 with 2 Axes>"
      ]
     },
     "metadata": {
      "needs_background": "light"
     },
     "output_type": "display_data"
    }
   ],
   "source": [
    "def visualize(model): #Visualize predictions on validation set\n",
    "\n",
    "    # Get data\n",
    "    dataset = CIFAR10(\"./data/\", train=False, transform=transforms.ToTensor())\n",
    "    img_indices = random.sample(range(len(dataset)), 16) #Randomly sample validation images to visualize\n",
    "    dataset = torch.utils.data.Subset(dataset, img_indices)\n",
    "    dataloader = DataLoader(dataset, shuffle=False, batch_size=len(dataset), pin_memory=True)\n",
    "\n",
    "    plt.figure()\n",
    "    f, axes = plt.subplots(2,1) \n",
    "\n",
    "    model.eval()\n",
    "    with torch.no_grad():\n",
    "        for (img, _) in dataloader:\n",
    "            img = img.to(DEVICE)\n",
    "\n",
    "            _, prediction = model(img)\n",
    "\n",
    "            axes[0].axis('off')\n",
    "            axes[1].axis('off')\n",
    "\n",
    "            axes[0].set_title(\"Prediction\")\n",
    "            axes[1].set_title(\"Original Image\")\n",
    "\n",
    "            axes[0].imshow(torchvision.utils.make_grid(prediction).permute(1,2,0).cpu().numpy())\n",
    "            axes[1].imshow(torchvision.utils.make_grid(img).permute(1,2,0).cpu().numpy())\n",
    "    return\n",
    "\n",
    "visualize(trained_autoencoder)\n",
    "            "
   ]
  },
  {
   "cell_type": "markdown",
   "metadata": {},
   "source": [
    "## 2. Generate Features\n",
    "\n",
    "Run the cells below to generate a csv of image features -> rotation label using your trained autoencoder."
   ]
  },
  {
   "cell_type": "code",
   "execution_count": 6,
   "metadata": {},
   "outputs": [],
   "source": [
    "class CIFAR10_RotDataset(torch.utils.data.Dataset): #Helper dataset to generate rotated counterparts\n",
    "    def __init__(self, root=\"./data/\", train=True, transform=None):\n",
    "        super(CIFAR10_RotDataset, self).__init__()\n",
    "        self.dataset = CIFAR10(root, train=train, transform=None)\n",
    "        self.transform = transform\n",
    " \n",
    "    def __len__(self):\n",
    "        return len(self.dataset)\n",
    "\n",
    "    def __getitem__(self, idx): # NOTE: Returns original image, rotated image, label\n",
    "        img, label = self.dataset.__getitem__(idx) #Get original image\n",
    "\n",
    "        # Make rotated counterpart (rotation angled is randomly sampled)\n",
    "        rotation_angle = random.randint(1, 3) * 90\n",
    "        rotated_img = transforms.RandomRotation(rotation_angle)(img)\n",
    "\n",
    "        if self.transform is not None:\n",
    "            img = self.transform(img)\n",
    "            rotated_img = self.transform(rotated_img)\n",
    "\n",
    "        return img, rotated_img, label\n",
    "\n",
    "def generate_csv(model, fname, train=True):\n",
    "    \"\"\" Returns CSV of CIFAR10 Features -> Rotation/Not-Rotated\"\"\"\n",
    "    # Get data\n",
    "    dataset = CIFAR10_RotDataset(train=train, transform=transforms.ToTensor())\n",
    "\n",
    "    # Eval model\n",
    "    model.to(DEVICE)\n",
    "    model.eval()\n",
    "\n",
    "    # Save data, label\n",
    "    output = []\n",
    "    with torch.no_grad():\n",
    "        for i in tqdm.notebook.trange(len(dataset), desc='Generating Features', unit='Sample'):\n",
    "            img, rotated_img, label = dataset.__getitem__(i)\n",
    "            img, rotated_img = img.to(DEVICE), rotated_img.to(DEVICE)\n",
    "\n",
    "            img_features = model.get_features(img).squeeze().tolist()\n",
    "\n",
    "            if train:\n",
    "                rotated_features = model.get_features(rotated_img).squeeze().tolist()\n",
    "                \n",
    "                # Add {if Rotated} as label\n",
    "                img_features.append(0)\n",
    "                rotated_features.append(1)\n",
    "                \n",
    "                output.append(rotated_features)\n",
    "            \n",
    "            else: #For validation, we need CIFAR label because we will do regular CIFAR10 classification!\n",
    "                img_features.append(label)\n",
    "            \n",
    "            output.append(img_features)\n",
    "    \n",
    "    df = pd.DataFrame(output, columns = [f'Feature {i}' for i in range(1,9)] + ['Label'])\n",
    "    df.to_csv(fname, index=False)\n",
    "    \n",
    "    return\n"
   ]
  },
  {
   "cell_type": "code",
   "execution_count": 7,
   "metadata": {},
   "outputs": [
    {
     "data": {
      "application/vnd.jupyter.widget-view+json": {
       "model_id": "2df754a8941947ed94ae35f19999872b",
       "version_major": 2,
       "version_minor": 0
      },
      "text/plain": [
       "Generating Features:   0%|          | 0/50000 [00:00<?, ?Sample/s]"
      ]
     },
     "metadata": {},
     "output_type": "display_data"
    },
    {
     "data": {
      "application/vnd.jupyter.widget-view+json": {
       "model_id": "754c589dbc4841e4a42112309e6732e8",
       "version_major": 2,
       "version_minor": 0
      },
      "text/plain": [
       "Generating Features:   0%|          | 0/10000 [00:00<?, ?Sample/s]"
      ]
     },
     "metadata": {},
     "output_type": "display_data"
    }
   ],
   "source": [
    "generate_csv(trained_autoencoder, \"cifar10_train_data.csv\", train=True)\n",
    "generate_csv(trained_autoencoder, \"cifar10_eval_data.csv\", train=False)"
   ]
  }
 ],
 "metadata": {
  "interpreter": {
   "hash": "fd69f43f58546b570e94fd7eba7b65e6bcc7a5bbc4eab0408017d18902915d69"
  },
  "kernelspec": {
   "display_name": "Python 3.7.12 64-bit",
   "language": "python",
   "name": "python3"
  },
  "language_info": {
   "codemirror_mode": {
    "name": "ipython",
    "version": 3
   },
   "file_extension": ".py",
   "mimetype": "text/x-python",
   "name": "python",
   "nbconvert_exporter": "python",
   "pygments_lexer": "ipython3",
   "version": "3.7.13"
  },
  "orig_nbformat": 4
 },
 "nbformat": 4,
 "nbformat_minor": 2
}
